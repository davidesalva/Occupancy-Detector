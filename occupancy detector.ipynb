{
 "cells": [
  {
   "cell_type": "markdown",
   "metadata": {},
   "source": [
    "**PRE PROCESSING**"
   ]
  },
  {
   "cell_type": "code",
   "execution_count": 1,
   "metadata": {},
   "outputs": [],
   "source": [
    "import numpy as np\n",
    "import pandas as pd\n",
    "\n",
    "from pathlib import Path\n",
    "import os\n",
    "from sklearn.preprocessing import MinMaxScaler"
   ]
  },
  {
   "cell_type": "code",
   "execution_count": 2,
   "metadata": {},
   "outputs": [],
   "source": [
    "# unisco tutti i dataset all'interno delle cartelle, in un unico dataframe\n",
    "paths = list(Path(r'C:\\Users\\dsalvatorelli\\Desktop\\Group project_ML\\Data').rglob('*.*'))\n",
    "\n",
    "## Features path\n",
    "co2_paths = [path for path in paths if path.name == 'co2.csv']\n",
    "humidity_paths = [path for path in paths if path.name == 'humidity.csv']\n",
    "temperature_paths = [path for path in paths if path.name == 'temperature.csv']\n",
    "light_paths = [path for path in paths if path.name == 'light.csv']\n",
    "\n",
    "\n",
    "## Target path\n",
    "pir_paths = [path for path in paths if path.name == 'pir.csv']\n",
    "\n",
    "frames = []\n",
    "for light_path, temperature_path, co2_path, pir_path, humidity_path in zip(light_paths, temperature_paths, co2_paths, pir_paths, humidity_paths):\n",
    "    \n",
    "    ## Features\n",
    "    light_df = pd.read_csv(light_path, names=['unix_time', 'light'], index_col='unix_time')\n",
    "    temperature_df = pd.read_csv(temperature_path, names=['unix_time', 'temperature'], index_col='unix_time')\n",
    "    co2_df = pd.read_csv(co2_path, names=['unix_time', 'co2'], index_col='unix_time')\n",
    "    humidity_df = pd.read_csv(humidity_path, names=['unix_time', 'humidity'], index_col='unix_time')\n",
    "    \n",
    "    ##Target\n",
    "    pir_df = pd.read_csv(pir_path, names=['unix_time', 'pir'], index_col='unix_time')\n",
    "    \n",
    "    ##Adding into single label\n",
    "    df = pd.concat([light_df, temperature_df, co2_df, pir_df, humidity_df], axis=1)\n",
    "    df['room'] = light_path.parent.name\n",
    "    frames.append(df)\n",
    "    \n",
    "data = pd.concat(frames)"
   ]
  },
  {
   "cell_type": "code",
   "execution_count": 13,
   "metadata": {},
   "outputs": [
    {
     "data": {
      "text/html": [
       "<div>\n",
       "<style scoped>\n",
       "    .dataframe tbody tr th:only-of-type {\n",
       "        vertical-align: middle;\n",
       "    }\n",
       "\n",
       "    .dataframe tbody tr th {\n",
       "        vertical-align: top;\n",
       "    }\n",
       "\n",
       "    .dataframe thead th {\n",
       "        text-align: right;\n",
       "    }\n",
       "</style>\n",
       "<table border=\"1\" class=\"dataframe\">\n",
       "  <thead>\n",
       "    <tr style=\"text-align: right;\">\n",
       "      <th></th>\n",
       "      <th>light</th>\n",
       "      <th>temperature</th>\n",
       "      <th>co2</th>\n",
       "      <th>pir</th>\n",
       "      <th>humidity</th>\n",
       "      <th>room</th>\n",
       "    </tr>\n",
       "    <tr>\n",
       "      <th>unix_time</th>\n",
       "      <th></th>\n",
       "      <th></th>\n",
       "      <th></th>\n",
       "      <th></th>\n",
       "      <th></th>\n",
       "      <th></th>\n",
       "    </tr>\n",
       "  </thead>\n",
       "  <tbody>\n",
       "    <tr>\n",
       "      <th>1377299107</th>\n",
       "      <td>97.0</td>\n",
       "      <td>23.93</td>\n",
       "      <td>488.0</td>\n",
       "      <td>NaN</td>\n",
       "      <td>45.34</td>\n",
       "      <td>413</td>\n",
       "    </tr>\n",
       "    <tr>\n",
       "      <th>1377299108</th>\n",
       "      <td>97.0</td>\n",
       "      <td>23.94</td>\n",
       "      <td>495.0</td>\n",
       "      <td>0.0</td>\n",
       "      <td>45.34</td>\n",
       "      <td>413</td>\n",
       "    </tr>\n",
       "    <tr>\n",
       "      <th>1377299110</th>\n",
       "      <td>NaN</td>\n",
       "      <td>NaN</td>\n",
       "      <td>487.0</td>\n",
       "      <td>NaN</td>\n",
       "      <td>NaN</td>\n",
       "      <td>413</td>\n",
       "    </tr>\n",
       "    <tr>\n",
       "      <th>1377299126</th>\n",
       "      <td>97.0</td>\n",
       "      <td>23.93</td>\n",
       "      <td>NaN</td>\n",
       "      <td>0.0</td>\n",
       "      <td>45.34</td>\n",
       "      <td>413</td>\n",
       "    </tr>\n",
       "    <tr>\n",
       "      <th>1377299127</th>\n",
       "      <td>NaN</td>\n",
       "      <td>NaN</td>\n",
       "      <td>496.0</td>\n",
       "      <td>0.0</td>\n",
       "      <td>NaN</td>\n",
       "      <td>413</td>\n",
       "    </tr>\n",
       "  </tbody>\n",
       "</table>\n",
       "</div>"
      ],
      "text/plain": [
       "            light  temperature    co2  pir  humidity room\n",
       "unix_time                                                \n",
       "1377299107   97.0        23.93  488.0  NaN     45.34  413\n",
       "1377299108   97.0        23.94  495.0  0.0     45.34  413\n",
       "1377299110    NaN          NaN  487.0  NaN       NaN  413\n",
       "1377299126   97.0        23.93    NaN  0.0     45.34  413\n",
       "1377299127    NaN          NaN  496.0  0.0       NaN  413"
      ]
     },
     "execution_count": 13,
     "metadata": {},
     "output_type": "execute_result"
    }
   ],
   "source": [
    "data.head()"
   ]
  },
  {
   "cell_type": "code",
   "execution_count": 3,
   "metadata": {},
   "outputs": [
    {
     "data": {
      "text/html": [
       "<div>\n",
       "<style scoped>\n",
       "    .dataframe tbody tr th:only-of-type {\n",
       "        vertical-align: middle;\n",
       "    }\n",
       "\n",
       "    .dataframe tbody tr th {\n",
       "        vertical-align: top;\n",
       "    }\n",
       "\n",
       "    .dataframe thead th {\n",
       "        text-align: right;\n",
       "    }\n",
       "</style>\n",
       "<table border=\"1\" class=\"dataframe\">\n",
       "  <thead>\n",
       "    <tr style=\"text-align: right;\">\n",
       "      <th></th>\n",
       "      <th>light</th>\n",
       "      <th>temperature</th>\n",
       "      <th>co2</th>\n",
       "      <th>pir</th>\n",
       "      <th>humidity</th>\n",
       "    </tr>\n",
       "  </thead>\n",
       "  <tbody>\n",
       "    <tr>\n",
       "      <th>count</th>\n",
       "      <td>6.571463e+06</td>\n",
       "      <td>6.571505e+06</td>\n",
       "      <td>6.574008e+06</td>\n",
       "      <td>3.593953e+06</td>\n",
       "      <td>6.571465e+06</td>\n",
       "    </tr>\n",
       "    <tr>\n",
       "      <th>mean</th>\n",
       "      <td>8.226156e+01</td>\n",
       "      <td>2.397020e+01</td>\n",
       "      <td>4.110066e+02</td>\n",
       "      <td>1.754301e+00</td>\n",
       "      <td>5.674771e+01</td>\n",
       "    </tr>\n",
       "    <tr>\n",
       "      <th>std</th>\n",
       "      <td>3.101547e+02</td>\n",
       "      <td>2.119168e+01</td>\n",
       "      <td>1.035154e+02</td>\n",
       "      <td>1.934540e+01</td>\n",
       "      <td>4.307900e+00</td>\n",
       "    </tr>\n",
       "    <tr>\n",
       "      <th>min</th>\n",
       "      <td>0.000000e+00</td>\n",
       "      <td>-4.010000e+01</td>\n",
       "      <td>8.000000e+00</td>\n",
       "      <td>0.000000e+00</td>\n",
       "      <td>-5.009600e+02</td>\n",
       "    </tr>\n",
       "    <tr>\n",
       "      <th>25%</th>\n",
       "      <td>3.000000e+00</td>\n",
       "      <td>2.253000e+01</td>\n",
       "      <td>3.520000e+02</td>\n",
       "      <td>0.000000e+00</td>\n",
       "      <td>5.398000e+01</td>\n",
       "    </tr>\n",
       "    <tr>\n",
       "      <th>50%</th>\n",
       "      <td>5.000000e+00</td>\n",
       "      <td>2.311000e+01</td>\n",
       "      <td>4.100000e+02</td>\n",
       "      <td>0.000000e+00</td>\n",
       "      <td>5.701000e+01</td>\n",
       "    </tr>\n",
       "    <tr>\n",
       "      <th>75%</th>\n",
       "      <td>3.000000e+01</td>\n",
       "      <td>2.371000e+01</td>\n",
       "      <td>4.630000e+02</td>\n",
       "      <td>0.000000e+00</td>\n",
       "      <td>5.974000e+01</td>\n",
       "    </tr>\n",
       "    <tr>\n",
       "      <th>max</th>\n",
       "      <td>3.055100e+04</td>\n",
       "      <td>5.792700e+02</td>\n",
       "      <td>1.699000e+03</td>\n",
       "      <td>3.445600e+04</td>\n",
       "      <td>7.191000e+01</td>\n",
       "    </tr>\n",
       "  </tbody>\n",
       "</table>\n",
       "</div>"
      ],
      "text/plain": [
       "              light   temperature           co2           pir      humidity\n",
       "count  6.571463e+06  6.571505e+06  6.574008e+06  3.593953e+06  6.571465e+06\n",
       "mean   8.226156e+01  2.397020e+01  4.110066e+02  1.754301e+00  5.674771e+01\n",
       "std    3.101547e+02  2.119168e+01  1.035154e+02  1.934540e+01  4.307900e+00\n",
       "min    0.000000e+00 -4.010000e+01  8.000000e+00  0.000000e+00 -5.009600e+02\n",
       "25%    3.000000e+00  2.253000e+01  3.520000e+02  0.000000e+00  5.398000e+01\n",
       "50%    5.000000e+00  2.311000e+01  4.100000e+02  0.000000e+00  5.701000e+01\n",
       "75%    3.000000e+01  2.371000e+01  4.630000e+02  0.000000e+00  5.974000e+01\n",
       "max    3.055100e+04  5.792700e+02  1.699000e+03  3.445600e+04  7.191000e+01"
      ]
     },
     "execution_count": 3,
     "metadata": {},
     "output_type": "execute_result"
    }
   ],
   "source": [
    "data.describe()"
   ]
  },
  {
   "cell_type": "code",
   "execution_count": 4,
   "metadata": {},
   "outputs": [
    {
     "data": {
      "text/plain": [
       "light          0.543066\n",
       "temperature    0.543063\n",
       "co2            0.542889\n",
       "pir            0.750101\n",
       "humidity       0.543066\n",
       "room           0.000000\n",
       "dtype: float64"
      ]
     },
     "execution_count": 4,
     "metadata": {},
     "output_type": "execute_result"
    }
   ],
   "source": [
    "data.isnull().sum() / len(data)"
   ]
  },
  {
   "cell_type": "code",
   "execution_count": 5,
   "metadata": {},
   "outputs": [
    {
     "data": {
      "text/plain": [
       "(14381639, 6)"
      ]
     },
     "execution_count": 5,
     "metadata": {},
     "output_type": "execute_result"
    }
   ],
   "source": [
    "data.shape"
   ]
  },
  {
   "cell_type": "code",
   "execution_count": 6,
   "metadata": {},
   "outputs": [],
   "source": [
    "#sostituisco i valori nulli di light, temperature,co2 e umidità con il valore medio tra il valore precedente non nullo e successivo non nullo\n",
    "columns=['light','temperature','co2','humidity']\n",
    "for column in columns:\n",
    "    data[[column]] = (data[[column]].ffill()+data[[column]].bfill())/2\n",
    "    data[[column]]= data[[column]].bfill().ffill()"
   ]
  },
  {
   "cell_type": "code",
   "execution_count": 7,
   "metadata": {},
   "outputs": [
    {
     "data": {
      "text/html": [
       "<div>\n",
       "<style scoped>\n",
       "    .dataframe tbody tr th:only-of-type {\n",
       "        vertical-align: middle;\n",
       "    }\n",
       "\n",
       "    .dataframe tbody tr th {\n",
       "        vertical-align: top;\n",
       "    }\n",
       "\n",
       "    .dataframe thead th {\n",
       "        text-align: right;\n",
       "    }\n",
       "</style>\n",
       "<table border=\"1\" class=\"dataframe\">\n",
       "  <thead>\n",
       "    <tr style=\"text-align: right;\">\n",
       "      <th></th>\n",
       "      <th>light</th>\n",
       "      <th>temperature</th>\n",
       "      <th>co2</th>\n",
       "      <th>pir</th>\n",
       "      <th>humidity</th>\n",
       "      <th>room</th>\n",
       "    </tr>\n",
       "    <tr>\n",
       "      <th>unix_time</th>\n",
       "      <th></th>\n",
       "      <th></th>\n",
       "      <th></th>\n",
       "      <th></th>\n",
       "      <th></th>\n",
       "      <th></th>\n",
       "    </tr>\n",
       "  </thead>\n",
       "  <tbody>\n",
       "    <tr>\n",
       "      <th>1377299107</th>\n",
       "      <td>97.0</td>\n",
       "      <td>23.930</td>\n",
       "      <td>488.0</td>\n",
       "      <td>NaN</td>\n",
       "      <td>45.340</td>\n",
       "      <td>413</td>\n",
       "    </tr>\n",
       "    <tr>\n",
       "      <th>1377299108</th>\n",
       "      <td>97.0</td>\n",
       "      <td>23.940</td>\n",
       "      <td>495.0</td>\n",
       "      <td>0.0</td>\n",
       "      <td>45.340</td>\n",
       "      <td>413</td>\n",
       "    </tr>\n",
       "    <tr>\n",
       "      <th>1377299110</th>\n",
       "      <td>97.0</td>\n",
       "      <td>23.935</td>\n",
       "      <td>487.0</td>\n",
       "      <td>NaN</td>\n",
       "      <td>45.340</td>\n",
       "      <td>413</td>\n",
       "    </tr>\n",
       "    <tr>\n",
       "      <th>1377299126</th>\n",
       "      <td>97.0</td>\n",
       "      <td>23.930</td>\n",
       "      <td>491.5</td>\n",
       "      <td>0.0</td>\n",
       "      <td>45.340</td>\n",
       "      <td>413</td>\n",
       "    </tr>\n",
       "    <tr>\n",
       "      <th>1377299127</th>\n",
       "      <td>97.0</td>\n",
       "      <td>23.930</td>\n",
       "      <td>496.0</td>\n",
       "      <td>0.0</td>\n",
       "      <td>45.325</td>\n",
       "      <td>413</td>\n",
       "    </tr>\n",
       "  </tbody>\n",
       "</table>\n",
       "</div>"
      ],
      "text/plain": [
       "            light  temperature    co2  pir  humidity room\n",
       "unix_time                                                \n",
       "1377299107   97.0       23.930  488.0  NaN    45.340  413\n",
       "1377299108   97.0       23.940  495.0  0.0    45.340  413\n",
       "1377299110   97.0       23.935  487.0  NaN    45.340  413\n",
       "1377299126   97.0       23.930  491.5  0.0    45.340  413\n",
       "1377299127   97.0       23.930  496.0  0.0    45.325  413"
      ]
     },
     "execution_count": 7,
     "metadata": {},
     "output_type": "execute_result"
    }
   ],
   "source": [
    "data.head()"
   ]
  },
  {
   "cell_type": "code",
   "execution_count": 8,
   "metadata": {},
   "outputs": [
    {
     "data": {
      "text/plain": [
       "light          0.000000\n",
       "temperature    0.000000\n",
       "co2            0.000000\n",
       "pir            0.750101\n",
       "humidity       0.000000\n",
       "room           0.000000\n",
       "dtype: float64"
      ]
     },
     "execution_count": 8,
     "metadata": {},
     "output_type": "execute_result"
    }
   ],
   "source": [
    "data.isnull().sum() / len(data)"
   ]
  },
  {
   "cell_type": "markdown",
   "metadata": {},
   "source": [
    "**SCORING DATASET**"
   ]
  },
  {
   "cell_type": "code",
   "execution_count": 23,
   "metadata": {},
   "outputs": [
    {
     "data": {
      "text/html": [
       "<div>\n",
       "<style scoped>\n",
       "    .dataframe tbody tr th:only-of-type {\n",
       "        vertical-align: middle;\n",
       "    }\n",
       "\n",
       "    .dataframe tbody tr th {\n",
       "        vertical-align: top;\n",
       "    }\n",
       "\n",
       "    .dataframe thead th {\n",
       "        text-align: right;\n",
       "    }\n",
       "</style>\n",
       "<table border=\"1\" class=\"dataframe\">\n",
       "  <thead>\n",
       "    <tr style=\"text-align: right;\">\n",
       "      <th></th>\n",
       "      <th>light</th>\n",
       "      <th>temperature</th>\n",
       "      <th>co2</th>\n",
       "      <th>humidity</th>\n",
       "      <th>room</th>\n",
       "    </tr>\n",
       "  </thead>\n",
       "  <tbody>\n",
       "    <tr>\n",
       "      <th>0</th>\n",
       "      <td>97.0</td>\n",
       "      <td>23.930</td>\n",
       "      <td>488.0</td>\n",
       "      <td>45.340</td>\n",
       "      <td>413</td>\n",
       "    </tr>\n",
       "    <tr>\n",
       "      <th>1</th>\n",
       "      <td>97.0</td>\n",
       "      <td>23.935</td>\n",
       "      <td>487.0</td>\n",
       "      <td>45.340</td>\n",
       "      <td>413</td>\n",
       "    </tr>\n",
       "    <tr>\n",
       "      <th>2</th>\n",
       "      <td>97.0</td>\n",
       "      <td>23.930</td>\n",
       "      <td>497.5</td>\n",
       "      <td>45.310</td>\n",
       "      <td>413</td>\n",
       "    </tr>\n",
       "    <tr>\n",
       "      <th>3</th>\n",
       "      <td>97.0</td>\n",
       "      <td>23.925</td>\n",
       "      <td>500.0</td>\n",
       "      <td>45.325</td>\n",
       "      <td>413</td>\n",
       "    </tr>\n",
       "    <tr>\n",
       "      <th>4</th>\n",
       "      <td>97.0</td>\n",
       "      <td>23.920</td>\n",
       "      <td>497.5</td>\n",
       "      <td>45.340</td>\n",
       "      <td>413</td>\n",
       "    </tr>\n",
       "  </tbody>\n",
       "</table>\n",
       "</div>"
      ],
      "text/plain": [
       "   light  temperature    co2  humidity room\n",
       "0   97.0       23.930  488.0    45.340  413\n",
       "1   97.0       23.935  487.0    45.340  413\n",
       "2   97.0       23.930  497.5    45.310  413\n",
       "3   97.0       23.925  500.0    45.325  413\n",
       "4   97.0       23.920  497.5    45.340  413"
      ]
     },
     "execution_count": 23,
     "metadata": {},
     "output_type": "execute_result"
    }
   ],
   "source": [
    "#seleziono le righe con valore di pir NULLO, creo un dataset e lo esporto in csv\n",
    "data_s1scor = data.copy()\n",
    "data_s1scor= data_s1scor[data_s1scor['pir'].isnull()]\n",
    "data_s1scor.reset_index(drop=True, inplace=True)\n",
    "data_s1scor.drop(columns=['pir',], inplace=True)\n",
    "data_s1scor.head()"
   ]
  },
  {
   "cell_type": "code",
   "execution_count": 24,
   "metadata": {},
   "outputs": [],
   "source": [
    "data_s1scor.to_csv(r\"C:\\Users\\dsalvatorelli\\Desktop\\Group project_ML\\data_scoring_s1.csv\", float_format='%.2f',index=False)"
   ]
  },
  {
   "cell_type": "markdown",
   "metadata": {},
   "source": [
    "**CLEANED DATASET**"
   ]
  },
  {
   "cell_type": "code",
   "execution_count": 9,
   "metadata": {},
   "outputs": [
    {
     "data": {
      "text/html": [
       "<div>\n",
       "<style scoped>\n",
       "    .dataframe tbody tr th:only-of-type {\n",
       "        vertical-align: middle;\n",
       "    }\n",
       "\n",
       "    .dataframe tbody tr th {\n",
       "        vertical-align: top;\n",
       "    }\n",
       "\n",
       "    .dataframe thead th {\n",
       "        text-align: right;\n",
       "    }\n",
       "</style>\n",
       "<table border=\"1\" class=\"dataframe\">\n",
       "  <thead>\n",
       "    <tr style=\"text-align: right;\">\n",
       "      <th></th>\n",
       "      <th>light</th>\n",
       "      <th>temperature</th>\n",
       "      <th>co2</th>\n",
       "      <th>humidity</th>\n",
       "      <th>room</th>\n",
       "      <th>occupancy</th>\n",
       "    </tr>\n",
       "  </thead>\n",
       "  <tbody>\n",
       "    <tr>\n",
       "      <th>0</th>\n",
       "      <td>97.0</td>\n",
       "      <td>23.94</td>\n",
       "      <td>495.0</td>\n",
       "      <td>45.340</td>\n",
       "      <td>413</td>\n",
       "      <td>0</td>\n",
       "    </tr>\n",
       "    <tr>\n",
       "      <th>1</th>\n",
       "      <td>97.0</td>\n",
       "      <td>23.93</td>\n",
       "      <td>491.5</td>\n",
       "      <td>45.340</td>\n",
       "      <td>413</td>\n",
       "      <td>0</td>\n",
       "    </tr>\n",
       "    <tr>\n",
       "      <th>2</th>\n",
       "      <td>97.0</td>\n",
       "      <td>23.93</td>\n",
       "      <td>496.0</td>\n",
       "      <td>45.325</td>\n",
       "      <td>413</td>\n",
       "      <td>0</td>\n",
       "    </tr>\n",
       "    <tr>\n",
       "      <th>3</th>\n",
       "      <td>97.0</td>\n",
       "      <td>23.93</td>\n",
       "      <td>495.0</td>\n",
       "      <td>45.325</td>\n",
       "      <td>413</td>\n",
       "      <td>0</td>\n",
       "    </tr>\n",
       "    <tr>\n",
       "      <th>4</th>\n",
       "      <td>96.5</td>\n",
       "      <td>23.92</td>\n",
       "      <td>495.0</td>\n",
       "      <td>45.340</td>\n",
       "      <td>413</td>\n",
       "      <td>0</td>\n",
       "    </tr>\n",
       "  </tbody>\n",
       "</table>\n",
       "</div>"
      ],
      "text/plain": [
       "   light  temperature    co2  humidity room  occupancy\n",
       "0   97.0        23.94  495.0    45.340  413          0\n",
       "1   97.0        23.93  491.5    45.340  413          0\n",
       "2   97.0        23.93  496.0    45.325  413          0\n",
       "3   97.0        23.93  495.0    45.325  413          0\n",
       "4   96.5        23.92  495.0    45.340  413          0"
      ]
     },
     "execution_count": 9,
     "metadata": {},
     "output_type": "execute_result"
    }
   ],
   "source": [
    "#rimuovo i missing pir\n",
    "data_s1 = data.copy()\n",
    "data_s1 = data_s1.dropna(subset=['pir'])\n",
    "\n",
    "#aggiungo la colonna occupancy [0,1], i.e. la categorizzazione del pir\n",
    "data_s1['occupancy'] = data_s1['pir'].apply(lambda x: 0 if x == 0 else 1)\n",
    "\n",
    "#converto room da number a categorical\n",
    "data_s1['room'] = data_s1.room.astype('category')\n",
    "\n",
    "#rimuovo le colonne unix time e pir\n",
    "data_s1.reset_index(drop=True, inplace=True)\n",
    "data_s1.drop(columns=['pir',], inplace=True)\n",
    "data_s1.head()\n"
   ]
  },
  {
   "cell_type": "code",
   "execution_count": 10,
   "metadata": {},
   "outputs": [
    {
     "data": {
      "text/plain": [
       "light           float64\n",
       "temperature     float64\n",
       "co2             float64\n",
       "humidity        float64\n",
       "room           category\n",
       "occupancy         int64\n",
       "dtype: object"
      ]
     },
     "execution_count": 10,
     "metadata": {},
     "output_type": "execute_result"
    }
   ],
   "source": [
    "data_s1.dtypes"
   ]
  },
  {
   "cell_type": "code",
   "execution_count": 11,
   "metadata": {},
   "outputs": [
    {
     "data": {
      "text/plain": [
       "0    0.928583\n",
       "1    0.071417\n",
       "Name: occupancy, dtype: float64"
      ]
     },
     "execution_count": 11,
     "metadata": {},
     "output_type": "execute_result"
    }
   ],
   "source": [
    "data_s1['occupancy'].value_counts()/ len(data_s1) "
   ]
  },
  {
   "cell_type": "code",
   "execution_count": 12,
   "metadata": {},
   "outputs": [
    {
     "data": {
      "text/plain": [
       "(3593953, 6)"
      ]
     },
     "execution_count": 12,
     "metadata": {},
     "output_type": "execute_result"
    }
   ],
   "source": [
    "data_s1.shape"
   ]
  },
  {
   "cell_type": "code",
   "execution_count": 24,
   "metadata": {},
   "outputs": [],
   "source": [
    "data_s1.to_csv(r\"C:\\Users\\dsalvatorelli\\Desktop\\Group project_ML\\data_cleaned_s1.csv\", float_format='%.2f',index=False)"
   ]
  },
  {
   "cell_type": "markdown",
   "metadata": {},
   "source": [
    "**MACHINE LEARNING**"
   ]
  },
  {
   "cell_type": "code",
   "execution_count": 26,
   "metadata": {},
   "outputs": [],
   "source": [
    "from sklearn.model_selection import train_test_split\n",
    "from sklearn.linear_model import LogisticRegression\n",
    "from sklearn.ensemble import RandomForestClassifier\n",
    "from sklearn.tree import DecisionTreeClassifier\n",
    "from sklearn import tree\n",
    "from sklearn.neighbors import KNeighborsClassifier  \n",
    "from xgboost import XGBClassifier\n",
    "from sklearn import metrics\n",
    "from sklearn.metrics import accuracy_score, f1_score, precision_score, recall_score\n",
    "from sklearn.metrics import confusion_matrix\n",
    "from sklearn.metrics import classification_report\n",
    "from sklearn.model_selection import GridSearchCV\n",
    "import time\n",
    "import matplotlib.pyplot as plt\n",
    "from matplotlib import pyplot\n",
    "import pandas as pd\n",
    "import numpy as np"
   ]
  },
  {
   "cell_type": "code",
   "execution_count": 2,
   "metadata": {},
   "outputs": [
    {
     "data": {
      "text/plain": [
       "(3593953, 6)"
      ]
     },
     "execution_count": 2,
     "metadata": {},
     "output_type": "execute_result"
    }
   ],
   "source": [
    "ds = pd.read_csv(r\"C:\\Users\\dsalvatorelli\\Desktop\\Group project_ML\\data_cleaned_s1.csv\")\n",
    "ds.shape"
   ]
  },
  {
   "cell_type": "code",
   "execution_count": 5,
   "metadata": {},
   "outputs": [
    {
     "data": {
      "text/html": [
       "<div>\n",
       "<style scoped>\n",
       "    .dataframe tbody tr th:only-of-type {\n",
       "        vertical-align: middle;\n",
       "    }\n",
       "\n",
       "    .dataframe tbody tr th {\n",
       "        vertical-align: top;\n",
       "    }\n",
       "\n",
       "    .dataframe thead th {\n",
       "        text-align: right;\n",
       "    }\n",
       "</style>\n",
       "<table border=\"1\" class=\"dataframe\">\n",
       "  <thead>\n",
       "    <tr style=\"text-align: right;\">\n",
       "      <th></th>\n",
       "      <th>light</th>\n",
       "      <th>temperature</th>\n",
       "      <th>co2</th>\n",
       "      <th>humidity</th>\n",
       "      <th>room</th>\n",
       "      <th>occupancy</th>\n",
       "    </tr>\n",
       "  </thead>\n",
       "  <tbody>\n",
       "    <tr>\n",
       "      <th>light</th>\n",
       "      <td>1.000000</td>\n",
       "      <td>-0.002409</td>\n",
       "      <td>-0.040407</td>\n",
       "      <td>0.071356</td>\n",
       "      <td>0.125447</td>\n",
       "      <td>0.126855</td>\n",
       "    </tr>\n",
       "    <tr>\n",
       "      <th>temperature</th>\n",
       "      <td>-0.002409</td>\n",
       "      <td>1.000000</td>\n",
       "      <td>0.068884</td>\n",
       "      <td>-0.036678</td>\n",
       "      <td>-0.078550</td>\n",
       "      <td>0.012794</td>\n",
       "    </tr>\n",
       "    <tr>\n",
       "      <th>co2</th>\n",
       "      <td>-0.040407</td>\n",
       "      <td>0.068884</td>\n",
       "      <td>1.000000</td>\n",
       "      <td>-0.051390</td>\n",
       "      <td>-0.059377</td>\n",
       "      <td>0.362032</td>\n",
       "    </tr>\n",
       "    <tr>\n",
       "      <th>humidity</th>\n",
       "      <td>0.071356</td>\n",
       "      <td>-0.036678</td>\n",
       "      <td>-0.051390</td>\n",
       "      <td>1.000000</td>\n",
       "      <td>-0.096842</td>\n",
       "      <td>-0.080317</td>\n",
       "    </tr>\n",
       "    <tr>\n",
       "      <th>room</th>\n",
       "      <td>0.125447</td>\n",
       "      <td>-0.078550</td>\n",
       "      <td>-0.059377</td>\n",
       "      <td>-0.096842</td>\n",
       "      <td>1.000000</td>\n",
       "      <td>0.088118</td>\n",
       "    </tr>\n",
       "    <tr>\n",
       "      <th>occupancy</th>\n",
       "      <td>0.126855</td>\n",
       "      <td>0.012794</td>\n",
       "      <td>0.362032</td>\n",
       "      <td>-0.080317</td>\n",
       "      <td>0.088118</td>\n",
       "      <td>1.000000</td>\n",
       "    </tr>\n",
       "  </tbody>\n",
       "</table>\n",
       "</div>"
      ],
      "text/plain": [
       "                light  temperature       co2  humidity      room  occupancy\n",
       "light        1.000000    -0.002409 -0.040407  0.071356  0.125447   0.126855\n",
       "temperature -0.002409     1.000000  0.068884 -0.036678 -0.078550   0.012794\n",
       "co2         -0.040407     0.068884  1.000000 -0.051390 -0.059377   0.362032\n",
       "humidity     0.071356    -0.036678 -0.051390  1.000000 -0.096842  -0.080317\n",
       "room         0.125447    -0.078550 -0.059377 -0.096842  1.000000   0.088118\n",
       "occupancy    0.126855     0.012794  0.362032 -0.080317  0.088118   1.000000"
      ]
     },
     "execution_count": 5,
     "metadata": {},
     "output_type": "execute_result"
    }
   ],
   "source": [
    "ds.corr()"
   ]
  },
  {
   "cell_type": "code",
   "execution_count": 6,
   "metadata": {},
   "outputs": [
    {
     "data": {
      "text/plain": [
       "<AxesSubplot:>"
      ]
     },
     "execution_count": 6,
     "metadata": {},
     "output_type": "execute_result"
    },
    {
     "data": {
      "image/png": "[encoded data removed]",
      "text/plain": [
       "<Figure size 432x288 with 2 Axes>"
      ]
     },
     "metadata": {
      "needs_background": "light"
     },
     "output_type": "display_data"
    }
   ],
   "source": [
    "import matplotlib.pyplot as plt\n",
    "%matplotlib inline\n",
    "import seaborn as sns\n",
    "correlation = ds.corr()\n",
    "sns.heatmap(correlation, cmap=\"Reds\")"
   ]
  },
  {
   "cell_type": "markdown",
   "metadata": {},
   "source": [
    "**Divisione dataset in training = 40 stanze e validation = 11 stanze**"
   ]
  },
  {
   "cell_type": "code",
   "execution_count": 27,
   "metadata": {},
   "outputs": [
    {
     "data": {
      "text/plain": [
       "(727991, 6)"
      ]
     },
     "execution_count": 27,
     "metadata": {},
     "output_type": "execute_result"
    }
   ],
   "source": [
    "#5 stanze 413,423,424,510,564,552,621,625,717,748,776\n",
    "ds_val = ds.loc[ds['room'].isin([413,423,424,510,564,552,621,625,717,748,776])]\n",
    "ds_val.shape"
   ]
  },
  {
   "cell_type": "code",
   "execution_count": null,
   "metadata": {},
   "outputs": [],
   "source": [
    "#5 stanze 413,423,424,510,564,552,621,625,717,748,776\n",
    "ds_val = ds.loc[ds['room'].isin([413,423,424,510,564,552,621,625,717,748,776])]\n",
    "ds_val.shape"
   ]
  },
  {
   "cell_type": "code",
   "execution_count": 28,
   "metadata": {},
   "outputs": [
    {
     "data": {
      "text/plain": [
       "0    0.931043\n",
       "1    0.068957\n",
       "Name: occupancy, dtype: float64"
      ]
     },
     "execution_count": 28,
     "metadata": {},
     "output_type": "execute_result"
    }
   ],
   "source": [
    "ds_val['occupancy'].value_counts()/ len(ds_val) "
   ]
  },
  {
   "cell_type": "code",
   "execution_count": 29,
   "metadata": {},
   "outputs": [
    {
     "data": {
      "text/plain": [
       "(2865962, 6)"
      ]
     },
     "execution_count": 29,
     "metadata": {},
     "output_type": "execute_result"
    }
   ],
   "source": [
    "ds_train = ds[~ds.room.isin([413,423,424,510,564,552,621,625,717,748,776])]\n",
    "ds_train.shape"
   ]
  },
  {
   "cell_type": "code",
   "execution_count": 30,
   "metadata": {},
   "outputs": [
    {
     "data": {
      "text/plain": [
       "0    0.927958\n",
       "1    0.072042\n",
       "Name: occupancy, dtype: float64"
      ]
     },
     "execution_count": 30,
     "metadata": {},
     "output_type": "execute_result"
    }
   ],
   "source": [
    "ds_train['occupancy'].value_counts()/ len(ds_train)"
   ]
  },
  {
   "cell_type": "markdown",
   "metadata": {},
   "source": [
    "**OLD**"
   ]
  },
  {
   "cell_type": "code",
   "execution_count": null,
   "metadata": {},
   "outputs": [],
   "source": [
    "count_occupancy_train_0, count_occupancy_train_1 = ds_train.occupancy.value_counts()\n",
    "count_occupancy_val_0, count_occupancy_val_1 = ds_val.occupancy.value_counts()\n",
    "   \n",
    "   data_occupancy_train_0 = ds_train[ds_train['occupancy']==0]\n",
    "    data_occupancy_train_1 = ds_train[ds_train['occupancy']==1]\n",
    "    counter_bf = ds_train['occupancy'].value_counts()/ len(ds) \n",
    "    data_occupancy_train_1_over = data_occupancy_train_1.sample(count_occupancy_train_0//i, replace = True)\n",
    "    ds_train_over = pd.concat([data_occupancy_train_0, data_occupancy_train_1_over], axis = 0)\n",
    "\n",
    "    data_occupancy_val_0 = ds_val[ds_val['occupancy']==0]\n",
    "    data_occupancy_val_1 = ds_val[ds_val['occupancy']==1]\n",
    "    data_occupancy_val_1_over = data_occupancy_val_1.sample(count_occupancy_val_0//i, replace = True)\n",
    "    ds_val_over = pd.concat([data_occupancy_val_0, data_occupancy_val_1_over], axis = 0)\n",
    "\n",
    "\n",
    "        \n",
    "    \n",
    "    y_train= ds_train_over['occupancy']\n",
    "    X_train = ds_train_over.drop(['occupancy','room'], axis=1) \n",
    "\n",
    "    y_test= ds_val_over['occupancy']\n",
    "    X_test = ds_val_over.drop(['occupancy','room'], axis=1)\n",
    "\n",
    "    counter_af= ds_val_over['occupancy'].value_counts()/ len(ds_train_over) \n",
    "\n",
    "\n",
    "count_occupancy_0, count_occupancy_1 = ds_train.occupancy.value_counts()\n",
    "data_occupancy_0 = ds_train[ds_train['occupancy']==0]\n",
    "data_occupancy_1 = ds_train[ds_train['occupancy']==1]\n",
    "counter_bf = ds_train['occupancy'].value_counts()/ len(ds) \n",
    "data_occupancy_1_over = data_occupancy_1.sample(count_occupancy_0//3, replace = True)\n",
    "\n",
    "ds_train_over = pd.concat([data_occupancy_0, data_occupancy_1_over], axis = 0)\n",
    "\n",
    "y_train= ds_train_over['occupancy']\n",
    "X_train = ds_train_over.drop(['occupancy'], axis=1)\n",
    "\n",
    "y_test= ds_val['occupancy']\n",
    "X_test = ds_val.drop(['occupancy'], axis=1)\n",
    "\n",
    "Score = pd.DataFrame()\n"
   ]
  },
  {
   "cell_type": "markdown",
   "metadata": {},
   "source": [
    "**Oversampling**"
   ]
  },
  {
   "cell_type": "code",
   "execution_count": 7,
   "metadata": {},
   "outputs": [
    {
     "data": {
      "text/html": [
       "<div>\n",
       "<style scoped>\n",
       "    .dataframe tbody tr th:only-of-type {\n",
       "        vertical-align: middle;\n",
       "    }\n",
       "\n",
       "    .dataframe tbody tr th {\n",
       "        vertical-align: top;\n",
       "    }\n",
       "\n",
       "    .dataframe thead th {\n",
       "        text-align: right;\n",
       "    }\n",
       "</style>\n",
       "<table border=\"1\" class=\"dataframe\">\n",
       "  <thead>\n",
       "    <tr style=\"text-align: right;\">\n",
       "      <th></th>\n",
       "      <th>Oversampling rate</th>\n",
       "      <th>Test Accuracy</th>\n",
       "      <th>Test F1</th>\n",
       "      <th>Test Precision</th>\n",
       "      <th>Test Recall</th>\n",
       "      <th>Train Accuracy</th>\n",
       "      <th>Train F1</th>\n",
       "      <th>Training time [s]</th>\n",
       "    </tr>\n",
       "  </thead>\n",
       "  <tbody>\n",
       "    <tr>\n",
       "      <th>0</th>\n",
       "      <td>1.0</td>\n",
       "      <td>0.988882</td>\n",
       "      <td>0.988989</td>\n",
       "      <td>0.980156</td>\n",
       "      <td>0.997981</td>\n",
       "      <td>0.991322</td>\n",
       "      <td>0.991378</td>\n",
       "      <td>67.500233</td>\n",
       "    </tr>\n",
       "    <tr>\n",
       "      <th>1</th>\n",
       "      <td>2.0</td>\n",
       "      <td>0.986352</td>\n",
       "      <td>0.979778</td>\n",
       "      <td>0.967721</td>\n",
       "      <td>0.992138</td>\n",
       "      <td>0.989710</td>\n",
       "      <td>0.984689</td>\n",
       "      <td>61.892297</td>\n",
       "    </tr>\n",
       "    <tr>\n",
       "      <th>2</th>\n",
       "      <td>3.0</td>\n",
       "      <td>0.985501</td>\n",
       "      <td>0.971397</td>\n",
       "      <td>0.959993</td>\n",
       "      <td>0.983076</td>\n",
       "      <td>0.989651</td>\n",
       "      <td>0.979421</td>\n",
       "      <td>56.281890</td>\n",
       "    </tr>\n",
       "    <tr>\n",
       "      <th>3</th>\n",
       "      <td>4.0</td>\n",
       "      <td>0.985570</td>\n",
       "      <td>0.964135</td>\n",
       "      <td>0.958830</td>\n",
       "      <td>0.969498</td>\n",
       "      <td>0.990227</td>\n",
       "      <td>0.975535</td>\n",
       "      <td>48.820719</td>\n",
       "    </tr>\n",
       "    <tr>\n",
       "      <th>4</th>\n",
       "      <td>5.0</td>\n",
       "      <td>0.986140</td>\n",
       "      <td>0.958693</td>\n",
       "      <td>0.953382</td>\n",
       "      <td>0.964063</td>\n",
       "      <td>0.990926</td>\n",
       "      <td>0.972717</td>\n",
       "      <td>49.827997</td>\n",
       "    </tr>\n",
       "    <tr>\n",
       "      <th>5</th>\n",
       "      <td>6.0</td>\n",
       "      <td>0.986703</td>\n",
       "      <td>0.953803</td>\n",
       "      <td>0.946799</td>\n",
       "      <td>0.960912</td>\n",
       "      <td>0.991638</td>\n",
       "      <td>0.970732</td>\n",
       "      <td>45.829683</td>\n",
       "    </tr>\n",
       "    <tr>\n",
       "      <th>6</th>\n",
       "      <td>7.0</td>\n",
       "      <td>0.987397</td>\n",
       "      <td>0.949981</td>\n",
       "      <td>0.940169</td>\n",
       "      <td>0.960000</td>\n",
       "      <td>0.992043</td>\n",
       "      <td>0.968253</td>\n",
       "      <td>44.783894</td>\n",
       "    </tr>\n",
       "  </tbody>\n",
       "</table>\n",
       "</div>"
      ],
      "text/plain": [
       "   Oversampling rate  Test Accuracy   Test F1  Test Precision  Test Recall  \\\n",
       "0                1.0       0.988882  0.988989        0.980156     0.997981   \n",
       "1                2.0       0.986352  0.979778        0.967721     0.992138   \n",
       "2                3.0       0.985501  0.971397        0.959993     0.983076   \n",
       "3                4.0       0.985570  0.964135        0.958830     0.969498   \n",
       "4                5.0       0.986140  0.958693        0.953382     0.964063   \n",
       "5                6.0       0.986703  0.953803        0.946799     0.960912   \n",
       "6                7.0       0.987397  0.949981        0.940169     0.960000   \n",
       "\n",
       "   Train Accuracy  Train F1  Training time [s]  \n",
       "0        0.991322  0.991378          67.500233  \n",
       "1        0.989710  0.984689          61.892297  \n",
       "2        0.989651  0.979421          56.281890  \n",
       "3        0.990227  0.975535          48.820719  \n",
       "4        0.990926  0.972717          49.827997  \n",
       "5        0.991638  0.970732          45.829683  \n",
       "6        0.992043  0.968253          44.783894  "
      ]
     },
     "execution_count": 7,
     "metadata": {},
     "output_type": "execute_result"
    }
   ],
   "source": [
    "oversample = pd.DataFrame()\n",
    "ds_over = ds.copy()\n",
    "count_occupancy_0, count_occupancy_1 = ds_over.occupancy.value_counts()\n",
    "# oversampling su training e validation\n",
    "\n",
    "for i in range(1,8):\n",
    "    data_occupancy_0 = ds_over[ds_over['occupancy']==0]\n",
    "    data_occupancy_1 = ds_over[ds_over['occupancy']==1]\n",
    "    data_occupancy_1 = data_occupancy_1.sample(count_occupancy_0//i, replace = True)\n",
    "    ds_over = pd.concat([data_occupancy_0, data_occupancy_1], axis = 0)\n",
    "\n",
    "    X = ds_over.drop(['occupancy','room'], axis=1)\n",
    "    y = ds_over['occupancy']\n",
    "    \n",
    "    X_train,X_test, y_train, y_test = train_test_split(X,y,test_size=0.2,random_state=0)\n",
    "    # stratified + statistica descrittiva label\n",
    "\n",
    "    DT = DecisionTreeClassifier(random_state=0)\n",
    "    start_time = time.time()\n",
    "    DT.fit(X_train,y_train)\n",
    "    y_pred_train_DT = DT.predict(X_train)\n",
    "    y_pred_test_DT = DT.predict(X_test)\n",
    "    acc_train_DT = accuracy_score(y_train,y_pred_train_DT)\n",
    "    acc_test_DT = accuracy_score(y_test,y_pred_test_DT)\n",
    "    f1_score_train_DT = f1_score(y_train, y_pred_train_DT)\n",
    "    precision_test_DT = precision_score(y_test, y_pred_test_DT)\n",
    "    recall_test_DT = recall_score(y_test, y_pred_test_DT)\n",
    "    f1_score_test_DT = f1_score(y_test, y_pred_test_DT)\n",
    "        \n",
    "    timez_DT = (time.time() - start_time)\n",
    "\n",
    "    df_DT = {\"Oversampling rate\": i,'Train Accuracy': acc_train_DT, 'Test Accuracy': acc_test_DT, 'Train F1': f1_score_train_DT,\n",
    "    'Test F1': f1_score_test_DT, 'Test Precision': precision_test_DT, 'Test Recall': recall_test_DT,  'Training time [s]': timez_DT}\n",
    "    oversample = oversample.append(df_DT, ignore_index=True)\n",
    "\n",
    "oversample.head(15)\n"
   ]
  },
  {
   "cell_type": "code",
   "execution_count": 8,
   "metadata": {},
   "outputs": [
    {
     "data": {
      "text/plain": [
       "Text(0.5, 0, 'Oversampling rate')"
      ]
     },
     "execution_count": 8,
     "metadata": {},
     "output_type": "execute_result"
    },
    {
     "data": {
      "image/png": "[encoded data removed]",
      "text/plain": [
       "<Figure size 432x288 with 2 Axes>"
      ]
     },
     "metadata": {
      "needs_background": "light"
     },
     "output_type": "display_data"
    }
   ],
   "source": [
    "classifierz = oversample['Oversampling rate']\n",
    "acctes = oversample['Test Accuracy']\n",
    "f1tes = oversample['Test F1']\n",
    "precisiontes = oversample['Test Precision']\n",
    "recalltes = oversample['Test Recall']\n",
    "\n",
    "plt.subplot(1, 2, 1)\n",
    "plt.title('Accuracy Score')\n",
    "plt.plot(classifierz, acctes, 'g')\n",
    "plt.ylim(0.9,1)\n",
    "plt.xlabel('Oversampling rate')\n",
    "\n",
    "plt.subplot(1, 2, 2)\n",
    "plt.title('F1 Score')\n",
    "plt.plot(classifierz, f1tes, 'b')\n",
    "plt.ylim(0.9,1)\n",
    "plt.xlabel('Oversampling rate')\n"
   ]
  },
  {
   "cell_type": "code",
   "execution_count": 9,
   "metadata": {},
   "outputs": [
    {
     "data": {
      "text/plain": [
       "Text(0.5, 0, 'Oversampling rate')"
      ]
     },
     "execution_count": 9,
     "metadata": {},
     "output_type": "execute_result"
    },
    {
     "data": {
      "image/png": "[encoded data removed]",
      "text/plain": [
       "<Figure size 432x288 with 2 Axes>"
      ]
     },
     "metadata": {
      "needs_background": "light"
     },
     "output_type": "display_data"
    }
   ],
   "source": [
    "plt.subplot(1, 2, 1)\n",
    "plt.title('Precision Score')\n",
    "plt.plot(classifierz, precisiontes, 'y')\n",
    "plt.ylim(0.9,1)\n",
    "plt.xlabel('Oversampling rate')\n",
    "\n",
    "plt.subplot(1, 2, 2)\n",
    "plt.title('Recall Score')\n",
    "plt.plot(classifierz, recalltes, 'm')\n",
    "plt.ylim(0.9,1)\n",
    "plt.xlabel('Oversampling rate')"
   ]
  },
  {
   "cell_type": "markdown",
   "metadata": {},
   "source": [
    "**Modeling**"
   ]
  },
  {
   "cell_type": "code",
   "execution_count": 3,
   "metadata": {},
   "outputs": [],
   "source": [
    "y = ds['occupancy']\n",
    "X = ds.drop(['occupancy','room'], axis=1)"
   ]
  },
  {
   "cell_type": "code",
   "execution_count": 4,
   "metadata": {},
   "outputs": [],
   "source": [
    "X_train, X_test, y_train, y_test = train_test_split(X,y, test_size=0.20, random_state=0)"
   ]
  },
  {
   "cell_type": "code",
   "execution_count": 32,
   "metadata": {},
   "outputs": [],
   "source": [
    "y_train= ds_train['occupancy']\n",
    "X_train = ds_train.drop(['occupancy','room'], axis=1) \n",
    "\n",
    "y_test= ds_val['occupancy']\n",
    "X_test = ds_val.drop(['occupancy','room'], axis=1)"
   ]
  },
  {
   "cell_type": "code",
   "execution_count": 40,
   "metadata": {},
   "outputs": [
    {
     "data": {
      "text/plain": [
       "0    500501\n",
       "1     38592\n",
       "Name: occupancy, dtype: int64"
      ]
     },
     "execution_count": 40,
     "metadata": {},
     "output_type": "execute_result"
    }
   ],
   "source": [
    "type(y_test)\n",
    "y_test.value_counts()"
   ]
  },
  {
   "cell_type": "code",
   "execution_count": 41,
   "metadata": {},
   "outputs": [
    {
     "data": {
      "text/plain": [
       "0    2836782\n",
       "1     218078\n",
       "Name: occupancy, dtype: int64"
      ]
     },
     "execution_count": 41,
     "metadata": {},
     "output_type": "execute_result"
    }
   ],
   "source": [
    "y_train.value_counts()"
   ]
  },
  {
   "cell_type": "code",
   "execution_count": 37,
   "metadata": {},
   "outputs": [
    {
     "name": "stdout",
     "output_type": "stream",
     "text": [
      "light\n",
      "count    2.515767e+06\n",
      "mean    -2.015758e-01\n",
      "std     -1.652327e+00\n",
      "min      0.000000e+00\n",
      "25%      0.000000e+00\n",
      "50%      0.000000e+00\n",
      "75%      5.000000e-01\n",
      "max      7.438500e+03\n",
      "Name: light, dtype: float64\n",
      "temperature\n",
      "count    2.515767e+06\n",
      "mean     8.457538e-03\n",
      "std      1.048955e-01\n",
      "min      0.000000e+00\n",
      "25%      0.000000e+00\n",
      "50%      0.000000e+00\n",
      "75%      0.000000e+00\n",
      "max      0.000000e+00\n",
      "Name: temperature, dtype: float64\n",
      "co2\n",
      "count    2.515767e+06\n",
      "mean     1.409709e-01\n",
      "std     -3.069696e-01\n",
      "min     -1.000000e+00\n",
      "25%      5.000000e-01\n",
      "50%      5.000000e-01\n",
      "75%      0.000000e+00\n",
      "max      3.450000e+01\n",
      "Name: co2, dtype: float64\n",
      "humidity\n",
      "count    2.515767e+06\n",
      "mean     1.147801e-02\n",
      "std     -1.140267e-02\n",
      "min      2.424400e+02\n",
      "25%      0.000000e+00\n",
      "50%      1.000000e-02\n",
      "75%      2.000000e-02\n",
      "max      3.000000e-02\n",
      "Name: humidity, dtype: float64\n",
      "room\n",
      "count    2.515767e+06\n",
      "mean    -1.518638e-01\n",
      "std      9.327552e-02\n",
      "min      0.000000e+00\n",
      "25%      0.000000e+00\n",
      "50%      0.000000e+00\n",
      "75%      0.000000e+00\n",
      "max      0.000000e+00\n",
      "Name: room, dtype: float64\n"
     ]
    }
   ],
   "source": [
    "X_train.columns\n",
    "\n",
    "for col in X_train.columns:\n",
    "    print(col)\n",
    "    print(X_train[col].describe()-X_test[col].describe())"
   ]
  },
  {
   "cell_type": "code",
   "execution_count": 35,
   "metadata": {},
   "outputs": [
    {
     "name": "stdout",
     "output_type": "stream",
     "text": [
      "light\n",
      "count    2.137971e+06\n",
      "mean     6.686362e+01\n",
      "std      2.783893e+02\n",
      "min      0.000000e+00\n",
      "25%      0.000000e+00\n",
      "50%      0.000000e+00\n",
      "75%      1.000000e+01\n",
      "max     -7.438500e+03\n",
      "Name: light, dtype: float64\n",
      "temperature\n",
      "count    2.137971e+06\n",
      "mean     9.116648e-01\n",
      "std      1.940203e+01\n",
      "min     -2.956000e+01\n",
      "25%     -3.500000e-01\n",
      "50%     -4.200000e-01\n",
      "75%     -6.500000e-01\n",
      "max      5.523800e+02\n",
      "Name: temperature, dtype: float64\n",
      "co2\n",
      "count    2.137971e+06\n",
      "mean    -1.590780e+01\n",
      "std      3.060634e+00\n",
      "min     -2.310000e+02\n",
      "25%     -6.000000e+00\n",
      "50%     -1.000000e+01\n",
      "75%     -1.400000e+01\n",
      "max      4.890000e+02\n",
      "Name: co2, dtype: float64\n",
      "humidity\n",
      "count    2.137971e+06\n",
      "mean     1.436359e+00\n",
      "std      3.745455e-01\n",
      "min     -2.598300e+02\n",
      "25%      1.200000e+00\n",
      "50%      1.560000e+00\n",
      "75%      1.590000e+00\n",
      "max      4.800000e-01\n",
      "Name: humidity, dtype: float64\n"
     ]
    }
   ],
   "source": [
    "X_train.columns\n",
    "\n",
    "for col in X_train.columns:\n",
    "    print(col)\n",
    "    print(X_train[col].describe()-X_test[col].describe())"
   ]
  },
  {
   "cell_type": "markdown",
   "metadata": {},
   "source": [
    "**Oversampling before modeling**"
   ]
  },
  {
   "cell_type": "code",
   "execution_count": 3,
   "metadata": {},
   "outputs": [],
   "source": [
    "#oversampling 50/50%\n",
    "\n",
    "ds_over = ds.copy()\n",
    "count_occupancy_0, count_occupancy_1 = ds_over.occupancy.value_counts()\n",
    "data_occupancy_0 = ds_over[ds_over['occupancy']==0]\n",
    "data_occupancy_1 = ds_over[ds_over['occupancy']==1]\n",
    "data_occupancy_1 = data_occupancy_1.sample(count_occupancy_0//1, replace = True)\n",
    "ds_over = pd.concat([data_occupancy_0, data_occupancy_1], axis = 0)\n",
    "\n",
    "X = ds_over.drop(['occupancy','room'], axis=1)\n",
    "y = ds_over['occupancy']\n",
    "\n",
    "X_train, X_test, y_train, y_test = train_test_split(X,y, test_size=0.20, random_state=0)"
   ]
  },
  {
   "cell_type": "code",
   "execution_count": 4,
   "metadata": {},
   "outputs": [
    {
     "data": {
      "text/html": [
       "<div>\n",
       "<style scoped>\n",
       "    .dataframe tbody tr th:only-of-type {\n",
       "        vertical-align: middle;\n",
       "    }\n",
       "\n",
       "    .dataframe tbody tr th {\n",
       "        vertical-align: top;\n",
       "    }\n",
       "\n",
       "    .dataframe thead th {\n",
       "        text-align: right;\n",
       "    }\n",
       "</style>\n",
       "<table border=\"1\" class=\"dataframe\">\n",
       "  <thead>\n",
       "    <tr style=\"text-align: right;\">\n",
       "      <th></th>\n",
       "      <th>Classifier</th>\n",
       "      <th>Test Accuracy</th>\n",
       "      <th>Test F1</th>\n",
       "      <th>Train Accuracy</th>\n",
       "      <th>Train F1</th>\n",
       "      <th>Training time [s]</th>\n",
       "    </tr>\n",
       "  </thead>\n",
       "  <tbody>\n",
       "    <tr>\n",
       "      <th>0</th>\n",
       "      <td>Logistic Regression</td>\n",
       "      <td>0.773886</td>\n",
       "      <td>0.765096</td>\n",
       "      <td>0.77336</td>\n",
       "      <td>0.764295</td>\n",
       "      <td>21.825499</td>\n",
       "    </tr>\n",
       "  </tbody>\n",
       "</table>\n",
       "</div>"
      ],
      "text/plain": [
       "            Classifier  Test Accuracy   Test F1  Train Accuracy  Train F1  \\\n",
       "0  Logistic Regression       0.773886  0.765096         0.77336  0.764295   \n",
       "\n",
       "   Training time [s]  \n",
       "0          21.825499  "
      ]
     },
     "execution_count": 4,
     "metadata": {},
     "output_type": "execute_result"
    }
   ],
   "source": [
    "Score = pd.DataFrame()\n",
    "\n",
    "LR = LogisticRegression(max_iter=1000)\n",
    "start_time = time.time()\n",
    "LR.fit(X_train,y_train)\n",
    "y_pred_train_LR = LR.predict(X_train)\n",
    "y_pred_test_LR = LR.predict(X_test)\n",
    "acc_train_LR = accuracy_score(y_train,y_pred_train_LR)\n",
    "acc_test_LR = accuracy_score(y_test,y_pred_test_LR)\n",
    "f1_score_train_LR = f1_score(y_train, y_pred_train_LR)\n",
    "f1_score_test_LR = f1_score(y_test, y_pred_test_LR)\n",
    "timez_LR = (time.time() - start_time)\n",
    "\n",
    "df_LR = {\"Classifier\": \"Logistic Regression\", 'Train Accuracy': acc_train_LR, 'Test Accuracy': acc_test_LR,\n",
    " 'Train F1': f1_score_train_LR, 'Test F1': f1_score_test_LR, 'Training time [s]': timez_LR }\n",
    "Score = Score.append(df_LR, ignore_index=True)\n",
    "Score.head()\n",
    "\n",
    "\n",
    "#ovrfitting; il modello lineare non funziona"
   ]
  },
  {
   "cell_type": "code",
   "execution_count": 5,
   "metadata": {},
   "outputs": [
    {
     "data": {
      "text/html": [
       "<div>\n",
       "<style scoped>\n",
       "    .dataframe tbody tr th:only-of-type {\n",
       "        vertical-align: middle;\n",
       "    }\n",
       "\n",
       "    .dataframe tbody tr th {\n",
       "        vertical-align: top;\n",
       "    }\n",
       "\n",
       "    .dataframe thead th {\n",
       "        text-align: right;\n",
       "    }\n",
       "</style>\n",
       "<table border=\"1\" class=\"dataframe\">\n",
       "  <thead>\n",
       "    <tr style=\"text-align: right;\">\n",
       "      <th></th>\n",
       "      <th>Classifier</th>\n",
       "      <th>Test Accuracy</th>\n",
       "      <th>Test F1</th>\n",
       "      <th>Train Accuracy</th>\n",
       "      <th>Train F1</th>\n",
       "      <th>Training time [s]</th>\n",
       "    </tr>\n",
       "  </thead>\n",
       "  <tbody>\n",
       "    <tr>\n",
       "      <th>0</th>\n",
       "      <td>Logistic Regression</td>\n",
       "      <td>0.773886</td>\n",
       "      <td>0.765096</td>\n",
       "      <td>0.773360</td>\n",
       "      <td>0.764295</td>\n",
       "      <td>21.825499</td>\n",
       "    </tr>\n",
       "    <tr>\n",
       "      <th>1</th>\n",
       "      <td>Decision Tree</td>\n",
       "      <td>0.988930</td>\n",
       "      <td>0.989036</td>\n",
       "      <td>0.991347</td>\n",
       "      <td>0.991404</td>\n",
       "      <td>71.816867</td>\n",
       "    </tr>\n",
       "  </tbody>\n",
       "</table>\n",
       "</div>"
      ],
      "text/plain": [
       "            Classifier  Test Accuracy   Test F1  Train Accuracy  Train F1  \\\n",
       "0  Logistic Regression       0.773886  0.765096        0.773360  0.764295   \n",
       "1        Decision Tree       0.988930  0.989036        0.991347  0.991404   \n",
       "\n",
       "   Training time [s]  \n",
       "0          21.825499  \n",
       "1          71.816867  "
      ]
     },
     "execution_count": 5,
     "metadata": {},
     "output_type": "execute_result"
    }
   ],
   "source": [
    "DT = DecisionTreeClassifier(random_state=0)\n",
    "start_time = time.time()\n",
    "DT.fit(X_train,y_train)\n",
    "y_pred_train_DT = DT.predict(X_train)\n",
    "y_pred_test_DT = DT.predict(X_test)\n",
    "acc_train_DT = accuracy_score(y_train,y_pred_train_DT)\n",
    "acc_test_DT = accuracy_score(y_test,y_pred_test_DT)\n",
    "f1_score_train_DT = f1_score(y_train, y_pred_train_DT)\n",
    "f1_score_test_DT = f1_score(y_test, y_pred_test_DT)\n",
    "timez_DT = (time.time() - start_time)\n",
    "\n",
    "df_DT = {\"Classifier\": \"Decision Tree\",'Train Accuracy': acc_train_DT, 'Test Accuracy': acc_test_DT, 'Train F1': f1_score_train_DT, 'Test F1': f1_score_test_DT, 'Training time [s]': timez_DT}\n",
    "Score = Score.append(df_DT, ignore_index=True)\n",
    "Score.head()"
   ]
  },
  {
   "cell_type": "code",
   "execution_count": 6,
   "metadata": {},
   "outputs": [
    {
     "data": {
      "text/html": [
       "<div>\n",
       "<style scoped>\n",
       "    .dataframe tbody tr th:only-of-type {\n",
       "        vertical-align: middle;\n",
       "    }\n",
       "\n",
       "    .dataframe tbody tr th {\n",
       "        vertical-align: top;\n",
       "    }\n",
       "\n",
       "    .dataframe thead th {\n",
       "        text-align: right;\n",
       "    }\n",
       "</style>\n",
       "<table border=\"1\" class=\"dataframe\">\n",
       "  <thead>\n",
       "    <tr style=\"text-align: right;\">\n",
       "      <th></th>\n",
       "      <th>Classifier</th>\n",
       "      <th>Test Accuracy</th>\n",
       "      <th>Test F1</th>\n",
       "      <th>Train Accuracy</th>\n",
       "      <th>Train F1</th>\n",
       "      <th>Training time [s]</th>\n",
       "    </tr>\n",
       "  </thead>\n",
       "  <tbody>\n",
       "    <tr>\n",
       "      <th>0</th>\n",
       "      <td>Logistic Regression</td>\n",
       "      <td>0.773886</td>\n",
       "      <td>0.765096</td>\n",
       "      <td>0.773360</td>\n",
       "      <td>0.764295</td>\n",
       "      <td>21.825499</td>\n",
       "    </tr>\n",
       "    <tr>\n",
       "      <th>1</th>\n",
       "      <td>Decision Tree</td>\n",
       "      <td>0.988930</td>\n",
       "      <td>0.989036</td>\n",
       "      <td>0.991347</td>\n",
       "      <td>0.991404</td>\n",
       "      <td>71.816867</td>\n",
       "    </tr>\n",
       "    <tr>\n",
       "      <th>2</th>\n",
       "      <td>KNeighbours</td>\n",
       "      <td>0.970205</td>\n",
       "      <td>0.970871</td>\n",
       "      <td>0.975244</td>\n",
       "      <td>0.975670</td>\n",
       "      <td>1181.510910</td>\n",
       "    </tr>\n",
       "  </tbody>\n",
       "</table>\n",
       "</div>"
      ],
      "text/plain": [
       "            Classifier  Test Accuracy   Test F1  Train Accuracy  Train F1  \\\n",
       "0  Logistic Regression       0.773886  0.765096        0.773360  0.764295   \n",
       "1        Decision Tree       0.988930  0.989036        0.991347  0.991404   \n",
       "2          KNeighbours       0.970205  0.970871        0.975244  0.975670   \n",
       "\n",
       "   Training time [s]  \n",
       "0          21.825499  \n",
       "1          71.816867  \n",
       "2        1181.510910  "
      ]
     },
     "execution_count": 6,
     "metadata": {},
     "output_type": "execute_result"
    }
   ],
   "source": [
    "KNN = KNeighborsClassifier()\n",
    "start_time = time.time()\n",
    "KNN.fit(X_train,y_train)\n",
    "y_pred_train_KNN = KNN.predict(X_train)\n",
    "y_pred_test_KNN = KNN.predict(X_test)\n",
    "acc_train_KNN = accuracy_score(y_train,y_pred_train_KNN)\n",
    "acc_test_KNN = accuracy_score(y_test,y_pred_test_KNN)\n",
    "f1_score_train_KNN = f1_score(y_train, y_pred_train_KNN)\n",
    "f1_score_test_KNN = f1_score(y_test, y_pred_test_KNN)\n",
    "timez_KNN = (time.time() - start_time)\n",
    "\n",
    "df_KNN = {\"Classifier\": \"KNeighbours\",'Train Accuracy': acc_train_KNN, 'Test Accuracy': acc_test_KNN, 'Train F1': f1_score_train_KNN, 'Test F1': f1_score_test_KNN, 'Training time [s]': timez_KNN }\n",
    "Score = Score.append(df_KNN, ignore_index=True)\n",
    "Score.head()"
   ]
  },
  {
   "cell_type": "code",
   "execution_count": 7,
   "metadata": {},
   "outputs": [
    {
     "name": "stderr",
     "output_type": "stream",
     "text": [
      "C:\\Users\\dsalvatorelli\\AppData\\Local\\Programs\\Python\\Python38\\lib\\site-packages\\xgboost\\sklearn.py:1146: UserWarning: The use of label encoder in XGBClassifier is deprecated and will be removed in a future release. To remove this warning, do the following: 1) Pass option use_label_encoder=False when constructing XGBClassifier object; and 2) Encode your labels (y) as integers starting with 0, i.e. 0, 1, 2, ..., [num_class - 1].\n",
      "  warnings.warn(label_encoder_deprecation_msg, UserWarning)\n"
     ]
    },
    {
     "name": "stdout",
     "output_type": "stream",
     "text": [
      "[16:19:57] WARNING: C:/Users/Administrator/workspace/xgboost-win64_release_1.4.0/src/learner.cc:1095: Starting in XGBoost 1.3.0, the default evaluation metric used with the objective 'binary:logistic' was changed from 'error' to 'logloss'. Explicitly set eval_metric if you'd like to restore the old behavior.\n"
     ]
    },
    {
     "data": {
      "text/html": [
       "<div>\n",
       "<style scoped>\n",
       "    .dataframe tbody tr th:only-of-type {\n",
       "        vertical-align: middle;\n",
       "    }\n",
       "\n",
       "    .dataframe tbody tr th {\n",
       "        vertical-align: top;\n",
       "    }\n",
       "\n",
       "    .dataframe thead th {\n",
       "        text-align: right;\n",
       "    }\n",
       "</style>\n",
       "<table border=\"1\" class=\"dataframe\">\n",
       "  <thead>\n",
       "    <tr style=\"text-align: right;\">\n",
       "      <th></th>\n",
       "      <th>Classifier</th>\n",
       "      <th>Test Accuracy</th>\n",
       "      <th>Test F1</th>\n",
       "      <th>Train Accuracy</th>\n",
       "      <th>Train F1</th>\n",
       "      <th>Training time [s]</th>\n",
       "    </tr>\n",
       "  </thead>\n",
       "  <tbody>\n",
       "    <tr>\n",
       "      <th>0</th>\n",
       "      <td>Logistic Regression</td>\n",
       "      <td>0.773886</td>\n",
       "      <td>0.765096</td>\n",
       "      <td>0.773360</td>\n",
       "      <td>0.764295</td>\n",
       "      <td>21.825499</td>\n",
       "    </tr>\n",
       "    <tr>\n",
       "      <th>1</th>\n",
       "      <td>Decision Tree</td>\n",
       "      <td>0.988930</td>\n",
       "      <td>0.989036</td>\n",
       "      <td>0.991347</td>\n",
       "      <td>0.991404</td>\n",
       "      <td>71.816867</td>\n",
       "    </tr>\n",
       "    <tr>\n",
       "      <th>2</th>\n",
       "      <td>KNeighbours</td>\n",
       "      <td>0.970205</td>\n",
       "      <td>0.970871</td>\n",
       "      <td>0.975244</td>\n",
       "      <td>0.975670</td>\n",
       "      <td>1181.510910</td>\n",
       "    </tr>\n",
       "    <tr>\n",
       "      <th>3</th>\n",
       "      <td>XGB</td>\n",
       "      <td>0.948307</td>\n",
       "      <td>0.949203</td>\n",
       "      <td>0.948336</td>\n",
       "      <td>0.949204</td>\n",
       "      <td>648.307405</td>\n",
       "    </tr>\n",
       "  </tbody>\n",
       "</table>\n",
       "</div>"
      ],
      "text/plain": [
       "            Classifier  Test Accuracy   Test F1  Train Accuracy  Train F1  \\\n",
       "0  Logistic Regression       0.773886  0.765096        0.773360  0.764295   \n",
       "1        Decision Tree       0.988930  0.989036        0.991347  0.991404   \n",
       "2          KNeighbours       0.970205  0.970871        0.975244  0.975670   \n",
       "3                  XGB       0.948307  0.949203        0.948336  0.949204   \n",
       "\n",
       "   Training time [s]  \n",
       "0          21.825499  \n",
       "1          71.816867  \n",
       "2        1181.510910  \n",
       "3         648.307405  "
      ]
     },
     "execution_count": 7,
     "metadata": {},
     "output_type": "execute_result"
    }
   ],
   "source": [
    "XGB = XGBClassifier()\n",
    "start_time = time.time()\n",
    "XGB.fit(X_train,y_train)\n",
    "y_pred_train_XGB = XGB.predict(X_train)\n",
    "y_pred_test_XGB = XGB.predict(X_test)\n",
    "acc_train_XGB = accuracy_score(y_train,y_pred_train_XGB)\n",
    "acc_test_XGB = accuracy_score(y_test,y_pred_test_XGB)\n",
    "f1_score_train_XGB = f1_score(y_train, y_pred_train_XGB)\n",
    "f1_score_test_XGB = f1_score(y_test, y_pred_test_XGB)\n",
    "timez_XGB = (time.time() - start_time)\n",
    "\n",
    "df_XGB = {\"Classifier\": \"XGB\",'Train Accuracy': acc_train_XGB, 'Test Accuracy': acc_test_XGB, 'Train F1': f1_score_train_XGB, 'Test F1': f1_score_test_XGB, 'Training time [s]': timez_XGB }\n",
    "Score = Score.append(df_XGB, ignore_index=True)\n",
    "Score.head()"
   ]
  },
  {
   "cell_type": "code",
   "execution_count": 8,
   "metadata": {},
   "outputs": [
    {
     "data": {
      "text/html": [
       "<div>\n",
       "<style scoped>\n",
       "    .dataframe tbody tr th:only-of-type {\n",
       "        vertical-align: middle;\n",
       "    }\n",
       "\n",
       "    .dataframe tbody tr th {\n",
       "        vertical-align: top;\n",
       "    }\n",
       "\n",
       "    .dataframe thead th {\n",
       "        text-align: right;\n",
       "    }\n",
       "</style>\n",
       "<table border=\"1\" class=\"dataframe\">\n",
       "  <thead>\n",
       "    <tr style=\"text-align: right;\">\n",
       "      <th></th>\n",
       "      <th>Classifier</th>\n",
       "      <th>Test Accuracy</th>\n",
       "      <th>Test F1</th>\n",
       "      <th>Train Accuracy</th>\n",
       "      <th>Train F1</th>\n",
       "      <th>Training time [s]</th>\n",
       "    </tr>\n",
       "  </thead>\n",
       "  <tbody>\n",
       "    <tr>\n",
       "      <th>0</th>\n",
       "      <td>Logistic Regression</td>\n",
       "      <td>0.773886</td>\n",
       "      <td>0.765096</td>\n",
       "      <td>0.773360</td>\n",
       "      <td>0.764295</td>\n",
       "      <td>21.825499</td>\n",
       "    </tr>\n",
       "    <tr>\n",
       "      <th>1</th>\n",
       "      <td>Decision Tree</td>\n",
       "      <td>0.988930</td>\n",
       "      <td>0.989036</td>\n",
       "      <td>0.991347</td>\n",
       "      <td>0.991404</td>\n",
       "      <td>71.816867</td>\n",
       "    </tr>\n",
       "    <tr>\n",
       "      <th>2</th>\n",
       "      <td>KNeighbours</td>\n",
       "      <td>0.970205</td>\n",
       "      <td>0.970871</td>\n",
       "      <td>0.975244</td>\n",
       "      <td>0.975670</td>\n",
       "      <td>1181.510910</td>\n",
       "    </tr>\n",
       "    <tr>\n",
       "      <th>3</th>\n",
       "      <td>XGB</td>\n",
       "      <td>0.948307</td>\n",
       "      <td>0.949203</td>\n",
       "      <td>0.948336</td>\n",
       "      <td>0.949204</td>\n",
       "      <td>648.307405</td>\n",
       "    </tr>\n",
       "    <tr>\n",
       "      <th>4</th>\n",
       "      <td>Random Forest</td>\n",
       "      <td>0.989136</td>\n",
       "      <td>0.989238</td>\n",
       "      <td>0.991346</td>\n",
       "      <td>0.991402</td>\n",
       "      <td>3195.656341</td>\n",
       "    </tr>\n",
       "  </tbody>\n",
       "</table>\n",
       "</div>"
      ],
      "text/plain": [
       "            Classifier  Test Accuracy   Test F1  Train Accuracy  Train F1  \\\n",
       "0  Logistic Regression       0.773886  0.765096        0.773360  0.764295   \n",
       "1        Decision Tree       0.988930  0.989036        0.991347  0.991404   \n",
       "2          KNeighbours       0.970205  0.970871        0.975244  0.975670   \n",
       "3                  XGB       0.948307  0.949203        0.948336  0.949204   \n",
       "4        Random Forest       0.989136  0.989238        0.991346  0.991402   \n",
       "\n",
       "   Training time [s]  \n",
       "0          21.825499  \n",
       "1          71.816867  \n",
       "2        1181.510910  \n",
       "3         648.307405  \n",
       "4        3195.656341  "
      ]
     },
     "execution_count": 8,
     "metadata": {},
     "output_type": "execute_result"
    }
   ],
   "source": [
    "RDF = RandomForestClassifier(random_state=0)\n",
    "start_time = time.time()\n",
    "RDF.fit(X_train,y_train)\n",
    "y_pred_train_RDF = RDF.predict(X_train)\n",
    "y_pred_test_RDF = RDF.predict(X_test)\n",
    "acc_train_RDF = accuracy_score(y_train,y_pred_train_RDF)\n",
    "acc_test_RDF = accuracy_score(y_test,y_pred_test_RDF)\n",
    "f1_score_train_RDF = f1_score(y_train, y_pred_train_RDF)\n",
    "f1_score_test_RDF = f1_score(y_test, y_pred_test_RDF)\n",
    "timez_RDF = (time.time() - start_time)\n",
    "\n",
    "df_RDF = {\"Classifier\": \"Random Forest\",'Train Accuracy': acc_train_RDF, 'Test Accuracy': acc_test_RDF, 'Train F1': f1_score_train_RDF, 'Test F1': f1_score_test_RDF, 'Training time [s]': timez_RDF }\n",
    "Score = Score.append(df_RDF, ignore_index=True)\n",
    "Score.head()"
   ]
  },
  {
   "cell_type": "code",
   "execution_count": 9,
   "metadata": {},
   "outputs": [
    {
     "data": {
      "text/html": [
       "<div>\n",
       "<style scoped>\n",
       "    .dataframe tbody tr th:only-of-type {\n",
       "        vertical-align: middle;\n",
       "    }\n",
       "\n",
       "    .dataframe tbody tr th {\n",
       "        vertical-align: top;\n",
       "    }\n",
       "\n",
       "    .dataframe thead th {\n",
       "        text-align: right;\n",
       "    }\n",
       "</style>\n",
       "<table border=\"1\" class=\"dataframe\">\n",
       "  <thead>\n",
       "    <tr style=\"text-align: right;\">\n",
       "      <th></th>\n",
       "      <th>Classifier</th>\n",
       "      <th>Test Accuracy</th>\n",
       "      <th>Test F1</th>\n",
       "      <th>Train Accuracy</th>\n",
       "      <th>Train F1</th>\n",
       "      <th>Training time [s]</th>\n",
       "    </tr>\n",
       "  </thead>\n",
       "  <tbody>\n",
       "    <tr>\n",
       "      <th>0</th>\n",
       "      <td>Random Forest</td>\n",
       "      <td>0.989136</td>\n",
       "      <td>0.989238</td>\n",
       "      <td>0.991346</td>\n",
       "      <td>0.991402</td>\n",
       "      <td>3195.656341</td>\n",
       "    </tr>\n",
       "    <tr>\n",
       "      <th>1</th>\n",
       "      <td>Decision Tree</td>\n",
       "      <td>0.988930</td>\n",
       "      <td>0.989036</td>\n",
       "      <td>0.991347</td>\n",
       "      <td>0.991404</td>\n",
       "      <td>71.816867</td>\n",
       "    </tr>\n",
       "    <tr>\n",
       "      <th>2</th>\n",
       "      <td>KNeighbours</td>\n",
       "      <td>0.970205</td>\n",
       "      <td>0.970871</td>\n",
       "      <td>0.975244</td>\n",
       "      <td>0.975670</td>\n",
       "      <td>1181.510910</td>\n",
       "    </tr>\n",
       "    <tr>\n",
       "      <th>3</th>\n",
       "      <td>XGB</td>\n",
       "      <td>0.948307</td>\n",
       "      <td>0.949203</td>\n",
       "      <td>0.948336</td>\n",
       "      <td>0.949204</td>\n",
       "      <td>648.307405</td>\n",
       "    </tr>\n",
       "    <tr>\n",
       "      <th>4</th>\n",
       "      <td>Logistic Regression</td>\n",
       "      <td>0.773886</td>\n",
       "      <td>0.765096</td>\n",
       "      <td>0.773360</td>\n",
       "      <td>0.764295</td>\n",
       "      <td>21.825499</td>\n",
       "    </tr>\n",
       "  </tbody>\n",
       "</table>\n",
       "</div>"
      ],
      "text/plain": [
       "            Classifier  Test Accuracy   Test F1  Train Accuracy  Train F1  \\\n",
       "0        Random Forest       0.989136  0.989238        0.991346  0.991402   \n",
       "1        Decision Tree       0.988930  0.989036        0.991347  0.991404   \n",
       "2          KNeighbours       0.970205  0.970871        0.975244  0.975670   \n",
       "3                  XGB       0.948307  0.949203        0.948336  0.949204   \n",
       "4  Logistic Regression       0.773886  0.765096        0.773360  0.764295   \n",
       "\n",
       "   Training time [s]  \n",
       "0        3195.656341  \n",
       "1          71.816867  \n",
       "2        1181.510910  \n",
       "3         648.307405  \n",
       "4          21.825499  "
      ]
     },
     "execution_count": 9,
     "metadata": {},
     "output_type": "execute_result"
    }
   ],
   "source": [
    "Score.sort_values(by=\"Test Accuracy\", ascending=False,inplace = True)\n",
    "Score.reset_index(drop=True, inplace=True)\n",
    "Score.head()"
   ]
  },
  {
   "cell_type": "markdown",
   "metadata": {},
   "source": [
    "Aggiungere ROC CURVE di tutti i modelli"
   ]
  },
  {
   "cell_type": "code",
   "execution_count": 10,
   "metadata": {},
   "outputs": [],
   "source": [
    "probs_LR = LR.predict_proba(X_test)\n",
    "preds_LR = probs_LR[:,1]\n",
    "\n",
    "probs_DTC = DT.predict_proba(X_test)\n",
    "preds_DTC = probs_DTC[:,1]\n",
    "\n",
    "probs_KN = KNN.predict_proba(X_test)\n",
    "preds_KN = probs_KN[:,1]\n",
    "\n",
    "probs_XGB = XGB.predict_proba(X_test)\n",
    "preds_XGB = probs_XGB[:,1]\n",
    "\n",
    "probs_RDF = RDF.predict_proba(X_test)\n",
    "preds_RDF = probs_RDF[:,1]\n"
   ]
  },
  {
   "cell_type": "code",
   "execution_count": 11,
   "metadata": {},
   "outputs": [
    {
     "data": {
      "image/png": "[encoded data removed]",
      "text/plain": [
       "<Figure size 432x288 with 1 Axes>"
      ]
     },
     "metadata": {
      "needs_background": "light"
     },
     "output_type": "display_data"
    }
   ],
   "source": [
    "fpr_LR, tpr_LR, threshold_LR = metrics.roc_curve(y_test, preds_LR)\n",
    "roc_auc_LR = metrics.auc(fpr_LR, tpr_LR)\n",
    "\n",
    "fpr_DTC, tpr_DTC, threshold_DTC = metrics.roc_curve(y_test, preds_DTC)\n",
    "roc_auc_DTC = metrics.auc(fpr_DTC, tpr_DTC)\n",
    "\n",
    "fpr_KNN, tpr_KNN, threshold_KN = metrics.roc_curve(y_test, preds_KN)\n",
    "roc_auc_KNN = metrics.auc(fpr_KNN, tpr_KNN)\n",
    "\n",
    "fpr_XGB, tpr_XGB, threshold_XGB = metrics.roc_curve(y_test, preds_XGB)\n",
    "roc_auc_XGB = metrics.auc(fpr_XGB, tpr_XGB)\n",
    "\n",
    "fpr_RDF, tpr_RDF, threshold_RDF = metrics.roc_curve(y_test, preds_RDF)\n",
    "roc_auc_RDF = metrics.auc(fpr_RDF, tpr_RDF)\n",
    "\n",
    "\n",
    "plt.title('Receiver Operating Characteristic (ROC)')\n",
    "\n",
    "plt.plot(fpr_LR, tpr_LR, 'b', label = 'AUC LR = %0.3f' % roc_auc_LR)\n",
    "plt.plot(fpr_DTC, tpr_DTC, 'g', label = 'AUC DTC = %0.3f' % roc_auc_DTC)\n",
    "plt.plot(fpr_KNN, tpr_KNN, 'r', label = 'AUC KNN = %0.3f' % roc_auc_KNN)\n",
    "plt.plot(fpr_XGB, tpr_XGB, 'y', label = 'AUC XGB = %0.3f' % roc_auc_XGB)\n",
    "plt.plot(fpr_RDF, tpr_RDF, 'm', label = 'AUC RDF = %0.3f' % roc_auc_RDF)\n",
    "\n",
    "plt.legend(loc = 'lower right')\n",
    "plt.plot([0, 1], [0, 1],'r--')\n",
    "plt.xlim([0, 1])\n",
    "plt.ylim([0, 1])\n",
    "plt.ylabel('True Positive Rate (Sensitivity)')\n",
    "plt.xlabel('False Positive Rate (1- Specificity)')\n",
    "plt.show()"
   ]
  },
  {
   "cell_type": "markdown",
   "metadata": {},
   "source": [
    "**HYPERPARAMETER TUNING SU DECISION TREE**"
   ]
  },
  {
   "cell_type": "code",
   "execution_count": 12,
   "metadata": {},
   "outputs": [
    {
     "name": "stdout",
     "output_type": "stream",
     "text": [
      "Fitting 3 folds for each of 16 candidates, totalling 48 fits\n"
     ]
    },
    {
     "name": "stderr",
     "output_type": "stream",
     "text": [
      "C:\\Users\\dsalvatorelli\\AppData\\Local\\Programs\\Python\\Python38\\lib\\site-packages\\sklearn\\model_selection\\_search.py:918: UserWarning: One or more of the test scores are non-finite: [       nan 0.98829081        nan 0.98749525        nan 0.98831066\n",
      "        nan 0.98750799        nan 0.98818837        nan 0.98723793\n",
      "        nan 0.98819961        nan 0.98725685]\n",
      "  warnings.warn(\n"
     ]
    },
    {
     "data": {
      "text/plain": [
       "GridSearchCV(cv=3, estimator=DecisionTreeClassifier(random_state=1234),\n",
       "             n_jobs=-1,\n",
       "             param_grid={'criterion': ['entropy', 'gini'],\n",
       "                         'max_depth': [40, 50], 'min_samples_leaf': [1, 2],\n",
       "                         'min_samples_split': [1, 2]},\n",
       "             verbose=2)"
      ]
     },
     "execution_count": 12,
     "metadata": {},
     "output_type": "execute_result"
    }
   ],
   "source": [
    "dtc = DecisionTreeClassifier(random_state=1234)\n",
    " \n",
    "param_grid = {\n",
    "    'criterion': ['entropy','gini'],\n",
    "    'max_depth': [40,50],\n",
    "    'min_samples_split': [1,2],\n",
    "    'min_samples_leaf': [1,2]\n",
    "}\n",
    "\n",
    "dtc_grid_search = GridSearchCV(estimator = dtc, param_grid = param_grid, \n",
    "                          cv = 3, n_jobs = -1, verbose = 2)\n",
    "\n",
    "dtc_grid_search.fit(X_train,y_train)"
   ]
  },
  {
   "cell_type": "code",
   "execution_count": 13,
   "metadata": {},
   "outputs": [
    {
     "data": {
      "text/plain": [
       "{'criterion': 'entropy',\n",
       " 'max_depth': 50,\n",
       " 'min_samples_leaf': 1,\n",
       " 'min_samples_split': 2}"
      ]
     },
     "execution_count": 13,
     "metadata": {},
     "output_type": "execute_result"
    }
   ],
   "source": [
    "dtc_grid_search.best_params_"
   ]
  },
  {
   "cell_type": "code",
   "execution_count": 64,
   "metadata": {},
   "outputs": [],
   "source": [
    "dtc_tuned = DecisionTreeClassifier(criterion = 'entropy', max_depth=50, min_samples_split= 2)"
   ]
  },
  {
   "cell_type": "code",
   "execution_count": 65,
   "metadata": {},
   "outputs": [],
   "source": [
    "y_1= ds_over['occupancy']\n",
    "X_1 = ds_over.drop(['occupancy','room'], axis=1)\n",
    "\n",
    "X_train,X_test, y_train, y_test = train_test_split(X_1,y_1,test_size=0.2,random_state=0)"
   ]
  },
  {
   "cell_type": "code",
   "execution_count": 66,
   "metadata": {},
   "outputs": [
    {
     "name": "stdout",
     "output_type": "stream",
     "text": [
      "Train Accuracy after optimization : 0.9913466270835628\n",
      "Test Accuracy after optimization : 0.989027757593373\n",
      "Train F1 Score after optimization : 0.9914035156915699\n",
      "Test F1 Score after optimization : 0.9891317494344012\n",
      "[[653747  13352]\n",
      " [  1295 666520]]\n",
      "              precision    recall  f1-score   support\n",
      "\n",
      "           0       1.00      0.98      0.99    667099\n",
      "           1       0.98      1.00      0.99    667815\n",
      "\n",
      "    accuracy                           0.99   1334914\n",
      "   macro avg       0.99      0.99      0.99   1334914\n",
      "weighted avg       0.99      0.99      0.99   1334914\n",
      "\n"
     ]
    }
   ],
   "source": [
    "dtc_tuned.fit(X_train,y_train)\n",
    "Y_train_pred_dtc_tuned = dtc_tuned.predict(X_train)\n",
    "Y_test_pred_dtc_tuned = dtc_tuned.predict(X_test)\n",
    "\n",
    "\n",
    "print(\"Train Accuracy after optimization :\",accuracy_score(y_train, Y_train_pred_dtc_tuned))\n",
    "print(\"Test Accuracy after optimization :\",accuracy_score(y_test, Y_test_pred_dtc_tuned))\n",
    "print(\"Train F1 Score after optimization :\",f1_score(y_train, Y_train_pred_dtc_tuned))\n",
    "print(\"Test F1 Score after optimization :\",f1_score(y_test, Y_test_pred_dtc_tuned))\n",
    "print(confusion_matrix(y_test, Y_test_pred_dtc_tuned))\n",
    "print(classification_report(y_test, Y_test_pred_dtc_tuned))"
   ]
  },
  {
   "cell_type": "markdown",
   "metadata": {},
   "source": [
    "**ASSESSMENT : ROC CURVE MODELLO MIGLIORE OTTIMIZZATO**"
   ]
  },
  {
   "cell_type": "code",
   "execution_count": 16,
   "metadata": {},
   "outputs": [],
   "source": [
    "probs_dtc_tuned_train = dtc_tuned.predict_proba(X_train)\n",
    "preds_dtc_tuned_train = probs_dtc_tuned_train[:,1]\n",
    "\n",
    "probs_dtc_tuned_test = dtc_tuned.predict_proba(X_test)\n",
    "preds_dtc_tuned_test = probs_dtc_tuned_test[:,1]"
   ]
  },
  {
   "cell_type": "code",
   "execution_count": 21,
   "metadata": {},
   "outputs": [
    {
     "data": {
      "image/png": "[encoded data removed]",
      "text/plain": [
       "<Figure size 432x288 with 1 Axes>"
      ]
     },
     "metadata": {
      "needs_background": "light"
     },
     "output_type": "display_data"
    }
   ],
   "source": [
    "fpr_dtc_tuned_train, tpr_dtc_tuned_train, threshold_dtc_tuned_train = metrics.roc_curve(y_train, preds_dtc_tuned_train)\n",
    "roc_auc_dtc_tuned_train = metrics.auc(fpr_dtc_tuned_train, tpr_dtc_tuned_train)\n",
    "\n",
    "fpr_dtc_tuned_test, tpr_dtc_tuned_test, threshold_dtc_tuned_test = metrics.roc_curve(y_test, preds_dtc_tuned_test)\n",
    "roc_auc_dtc_tuned_test = metrics.auc(fpr_dtc_tuned_test, tpr_dtc_tuned_test)\n",
    "\n",
    "plt.title('Receiver Operating Characteristic (ROC)')\n",
    "plt.plot(fpr_dtc_tuned_test, tpr_dtc_tuned_test, 'b', label = 'AUC DTC Tuned test= %0.3f' % roc_auc_dtc_tuned_test)\n",
    "plt.plot(fpr_dtc_tuned_train, tpr_dtc_tuned_train, 'y', label = 'AUC DTC Tuned train= %0.3f' % roc_auc_dtc_tuned_train)\n",
    "\n",
    "\n",
    "plt.legend(loc = 'lower right')\n",
    "plt.plot([0, 1], [0, 1],'r--')\n",
    "plt.xlim([0, 1])\n",
    "plt.ylim([0, 1])\n",
    "plt.ylabel('True Positive Rate (Sensitivity)')\n",
    "plt.xlabel('False Positive Rate (1- Specificity)')\n",
    "plt.show()"
   ]
  },
  {
   "cell_type": "markdown",
   "metadata": {},
   "source": [
    "**scelta soglia**"
   ]
  },
  {
   "cell_type": "code",
   "execution_count": null,
   "metadata": {},
   "outputs": [],
   "source": [
    "Soglia = pd.DataFrame()\n",
    "\n",
    "for threshold in np.arange(0,1,0.1):\n",
    "    DT = DecisionTreeClassifier(random_state=0)\n",
    "    start_time = time.time()\n",
    "    DT.fit(X_train,y_train)\n",
    "    y_pred_train_DT = DT.predict(X_train)\n",
    "    y_pred_test_DT = DT.predict(X_test)\n",
    "    predicted_proba_DT = DT.predict_proba(X_test)\n",
    "    y_predicted_DT = (predicted_proba_DT [:,1] >= threshold).astype('int')\n",
    "    acc_train_DT = accuracy_score(y_train,y_pred_train_DT)\n",
    "    acc_test_DT = accuracy_score(y_test,y_predicted_DT)\n",
    "    acc_test_three = accuracy_score(y_test,y_predicted_DT)\n",
    "    f1_score_train_DT = f1_score(y_train, y_pred_train_DT)\n",
    "    f1_score_test_DT = f1_score(y_test, y_pred_test_DT)\n",
    "    precision_thre = precision_score(y_test,y_predicted_DT)\n",
    "    recall_thre = recall_score(y_test,y_predicted_DT)\n",
    "    timez_DT = (time.time() - start_time)\n",
    "\n",
    "    df_DT = {\"Classifier\": \"Decision Tree\",'Train Accuracy': acc_train_DT, 'Test Accuracy': acc_test_DT, 'Train F1': f1_score_train_DT, 'Test F1': f1_score_test_DT, 'Training time [s]': timez_DT,\n",
    "    'Predicted score': acc_test_three, 'threshold':threshold,'precision':precision_thre,'recall':recall_thre}\n",
    "    Soglia = Soglia.append(df_DT, ignore_index=True)\n",
    "Soglia.head()"
   ]
  },
  {
   "cell_type": "code",
   "execution_count": 22,
   "metadata": {},
   "outputs": [
    {
     "ename": "KeyboardInterrupt",
     "evalue": "",
     "output_type": "error",
     "traceback": [
      "\u001b[1;31m---------------------------------------------------------------------------\u001b[0m",
      "\u001b[1;31mKeyboardInterrupt\u001b[0m                         Traceback (most recent call last)",
      "\u001b[1;32m<ipython-input-22-a462540f7278>\u001b[0m in \u001b[0;36m<module>\u001b[1;34m\u001b[0m\n\u001b[0;32m      3\u001b[0m \u001b[0mplt\u001b[0m\u001b[1;33m.\u001b[0m\u001b[0mfigure\u001b[0m\u001b[1;33m(\u001b[0m\u001b[0mfigsize\u001b[0m\u001b[1;33m=\u001b[0m\u001b[1;33m(\u001b[0m\u001b[1;36m12\u001b[0m\u001b[1;33m,\u001b[0m\u001b[1;36m12\u001b[0m\u001b[1;33m)\u001b[0m\u001b[1;33m)\u001b[0m  \u001b[1;31m# set plot size (denoted in inches)\u001b[0m\u001b[1;33m\u001b[0m\u001b[1;33m\u001b[0m\u001b[0m\n\u001b[0;32m      4\u001b[0m \u001b[0mtree\u001b[0m\u001b[1;33m.\u001b[0m\u001b[0mplot_tree\u001b[0m\u001b[1;33m(\u001b[0m\u001b[0mdtc_tuned\u001b[0m\u001b[1;33m.\u001b[0m\u001b[0mfit\u001b[0m\u001b[1;33m(\u001b[0m\u001b[0mX_train\u001b[0m\u001b[1;33m,\u001b[0m\u001b[0my_train\u001b[0m\u001b[1;33m)\u001b[0m\u001b[1;33m,\u001b[0m \u001b[0mfontsize\u001b[0m\u001b[1;33m=\u001b[0m\u001b[1;36m10\u001b[0m\u001b[1;33m)\u001b[0m\u001b[1;33m\u001b[0m\u001b[1;33m\u001b[0m\u001b[0m\n\u001b[1;32m----> 5\u001b[1;33m \u001b[0mplt\u001b[0m\u001b[1;33m.\u001b[0m\u001b[0mshow\u001b[0m\u001b[1;33m(\u001b[0m\u001b[1;33m)\u001b[0m\u001b[1;33m\u001b[0m\u001b[1;33m\u001b[0m\u001b[0m\n\u001b[0m",
      "\u001b[1;32m~\\AppData\\Local\\Programs\\Python\\Python38\\lib\\site-packages\\matplotlib\\pyplot.py\u001b[0m in \u001b[0;36mshow\u001b[1;34m(*args, **kwargs)\u001b[0m\n\u001b[0;32m    352\u001b[0m     \"\"\"\n\u001b[0;32m    353\u001b[0m     \u001b[0m_warn_if_gui_out_of_main_thread\u001b[0m\u001b[1;33m(\u001b[0m\u001b[1;33m)\u001b[0m\u001b[1;33m\u001b[0m\u001b[1;33m\u001b[0m\u001b[0m\n\u001b[1;32m--> 354\u001b[1;33m     \u001b[1;32mreturn\u001b[0m \u001b[0m_backend_mod\u001b[0m\u001b[1;33m.\u001b[0m\u001b[0mshow\u001b[0m\u001b[1;33m(\u001b[0m\u001b[1;33m*\u001b[0m\u001b[0margs\u001b[0m\u001b[1;33m,\u001b[0m \u001b[1;33m**\u001b[0m\u001b[0mkwargs\u001b[0m\u001b[1;33m)\u001b[0m\u001b[1;33m\u001b[0m\u001b[1;33m\u001b[0m\u001b[0m\n\u001b[0m\u001b[0;32m    355\u001b[0m \u001b[1;33m\u001b[0m\u001b[0m\n\u001b[0;32m    356\u001b[0m \u001b[1;33m\u001b[0m\u001b[0m\n",
      "\u001b[1;32m~\\AppData\\Roaming\\Python\\Python38\\site-packages\\ipykernel\\pylab\\backend_inline.py\u001b[0m in \u001b[0;36mshow\u001b[1;34m(close, block)\u001b[0m\n\u001b[0;32m     38\u001b[0m     \u001b[1;32mtry\u001b[0m\u001b[1;33m:\u001b[0m\u001b[1;33m\u001b[0m\u001b[1;33m\u001b[0m\u001b[0m\n\u001b[0;32m     39\u001b[0m         \u001b[1;32mfor\u001b[0m \u001b[0mfigure_manager\u001b[0m \u001b[1;32min\u001b[0m \u001b[0mGcf\u001b[0m\u001b[1;33m.\u001b[0m\u001b[0mget_all_fig_managers\u001b[0m\u001b[1;33m(\u001b[0m\u001b[1;33m)\u001b[0m\u001b[1;33m:\u001b[0m\u001b[1;33m\u001b[0m\u001b[1;33m\u001b[0m\u001b[0m\n\u001b[1;32m---> 40\u001b[1;33m             display(\n\u001b[0m\u001b[0;32m     41\u001b[0m                 \u001b[0mfigure_manager\u001b[0m\u001b[1;33m.\u001b[0m\u001b[0mcanvas\u001b[0m\u001b[1;33m.\u001b[0m\u001b[0mfigure\u001b[0m\u001b[1;33m,\u001b[0m\u001b[1;33m\u001b[0m\u001b[1;33m\u001b[0m\u001b[0m\n\u001b[0;32m     42\u001b[0m                 \u001b[0mmetadata\u001b[0m\u001b[1;33m=\u001b[0m\u001b[0m_fetch_figure_metadata\u001b[0m\u001b[1;33m(\u001b[0m\u001b[0mfigure_manager\u001b[0m\u001b[1;33m.\u001b[0m\u001b[0mcanvas\u001b[0m\u001b[1;33m.\u001b[0m\u001b[0mfigure\u001b[0m\u001b[1;33m)\u001b[0m\u001b[1;33m\u001b[0m\u001b[1;33m\u001b[0m\u001b[0m\n",
      "\u001b[1;32m~\\AppData\\Roaming\\Python\\Python38\\site-packages\\IPython\\core\\display.py\u001b[0m in \u001b[0;36mdisplay\u001b[1;34m(include, exclude, metadata, transient, display_id, *objs, **kwargs)\u001b[0m\n\u001b[0;32m    311\u001b[0m             \u001b[0mpublish_display_data\u001b[0m\u001b[1;33m(\u001b[0m\u001b[0mdata\u001b[0m\u001b[1;33m=\u001b[0m\u001b[0mobj\u001b[0m\u001b[1;33m,\u001b[0m \u001b[0mmetadata\u001b[0m\u001b[1;33m=\u001b[0m\u001b[0mmetadata\u001b[0m\u001b[1;33m,\u001b[0m \u001b[1;33m**\u001b[0m\u001b[0mkwargs\u001b[0m\u001b[1;33m)\u001b[0m\u001b[1;33m\u001b[0m\u001b[1;33m\u001b[0m\u001b[0m\n\u001b[0;32m    312\u001b[0m         \u001b[1;32melse\u001b[0m\u001b[1;33m:\u001b[0m\u001b[1;33m\u001b[0m\u001b[1;33m\u001b[0m\u001b[0m\n\u001b[1;32m--> 313\u001b[1;33m             \u001b[0mformat_dict\u001b[0m\u001b[1;33m,\u001b[0m \u001b[0mmd_dict\u001b[0m \u001b[1;33m=\u001b[0m \u001b[0mformat\u001b[0m\u001b[1;33m(\u001b[0m\u001b[0mobj\u001b[0m\u001b[1;33m,\u001b[0m \u001b[0minclude\u001b[0m\u001b[1;33m=\u001b[0m\u001b[0minclude\u001b[0m\u001b[1;33m,\u001b[0m \u001b[0mexclude\u001b[0m\u001b[1;33m=\u001b[0m\u001b[0mexclude\u001b[0m\u001b[1;33m)\u001b[0m\u001b[1;33m\u001b[0m\u001b[1;33m\u001b[0m\u001b[0m\n\u001b[0m\u001b[0;32m    314\u001b[0m             \u001b[1;32mif\u001b[0m \u001b[1;32mnot\u001b[0m \u001b[0mformat_dict\u001b[0m\u001b[1;33m:\u001b[0m\u001b[1;33m\u001b[0m\u001b[1;33m\u001b[0m\u001b[0m\n\u001b[0;32m    315\u001b[0m                 \u001b[1;31m# nothing to display (e.g. _ipython_display_ took over)\u001b[0m\u001b[1;33m\u001b[0m\u001b[1;33m\u001b[0m\u001b[1;33m\u001b[0m\u001b[0m\n",
      "\u001b[1;32m~\\AppData\\Roaming\\Python\\Python38\\site-packages\\IPython\\core\\formatters.py\u001b[0m in \u001b[0;36mformat\u001b[1;34m(self, obj, include, exclude)\u001b[0m\n\u001b[0;32m    178\u001b[0m             \u001b[0mmd\u001b[0m \u001b[1;33m=\u001b[0m \u001b[1;32mNone\u001b[0m\u001b[1;33m\u001b[0m\u001b[1;33m\u001b[0m\u001b[0m\n\u001b[0;32m    179\u001b[0m             \u001b[1;32mtry\u001b[0m\u001b[1;33m:\u001b[0m\u001b[1;33m\u001b[0m\u001b[1;33m\u001b[0m\u001b[0m\n\u001b[1;32m--> 180\u001b[1;33m                 \u001b[0mdata\u001b[0m \u001b[1;33m=\u001b[0m \u001b[0mformatter\u001b[0m\u001b[1;33m(\u001b[0m\u001b[0mobj\u001b[0m\u001b[1;33m)\u001b[0m\u001b[1;33m\u001b[0m\u001b[1;33m\u001b[0m\u001b[0m\n\u001b[0m\u001b[0;32m    181\u001b[0m             \u001b[1;32mexcept\u001b[0m\u001b[1;33m:\u001b[0m\u001b[1;33m\u001b[0m\u001b[1;33m\u001b[0m\u001b[0m\n\u001b[0;32m    182\u001b[0m                 \u001b[1;31m# FIXME: log the exception\u001b[0m\u001b[1;33m\u001b[0m\u001b[1;33m\u001b[0m\u001b[1;33m\u001b[0m\u001b[0m\n",
      "\u001b[1;32m~\\AppData\\Roaming\\Python\\Python38\\site-packages\\decorator.py\u001b[0m in \u001b[0;36mfun\u001b[1;34m(*args, **kw)\u001b[0m\n\u001b[0;32m    230\u001b[0m             \u001b[1;32mif\u001b[0m \u001b[1;32mnot\u001b[0m \u001b[0mkwsyntax\u001b[0m\u001b[1;33m:\u001b[0m\u001b[1;33m\u001b[0m\u001b[1;33m\u001b[0m\u001b[0m\n\u001b[0;32m    231\u001b[0m                 \u001b[0margs\u001b[0m\u001b[1;33m,\u001b[0m \u001b[0mkw\u001b[0m \u001b[1;33m=\u001b[0m \u001b[0mfix\u001b[0m\u001b[1;33m(\u001b[0m\u001b[0margs\u001b[0m\u001b[1;33m,\u001b[0m \u001b[0mkw\u001b[0m\u001b[1;33m,\u001b[0m \u001b[0msig\u001b[0m\u001b[1;33m)\u001b[0m\u001b[1;33m\u001b[0m\u001b[1;33m\u001b[0m\u001b[0m\n\u001b[1;32m--> 232\u001b[1;33m             \u001b[1;32mreturn\u001b[0m \u001b[0mcaller\u001b[0m\u001b[1;33m(\u001b[0m\u001b[0mfunc\u001b[0m\u001b[1;33m,\u001b[0m \u001b[1;33m*\u001b[0m\u001b[1;33m(\u001b[0m\u001b[0mextras\u001b[0m \u001b[1;33m+\u001b[0m \u001b[0margs\u001b[0m\u001b[1;33m)\u001b[0m\u001b[1;33m,\u001b[0m \u001b[1;33m**\u001b[0m\u001b[0mkw\u001b[0m\u001b[1;33m)\u001b[0m\u001b[1;33m\u001b[0m\u001b[1;33m\u001b[0m\u001b[0m\n\u001b[0m\u001b[0;32m    233\u001b[0m     \u001b[0mfun\u001b[0m\u001b[1;33m.\u001b[0m\u001b[0m__name__\u001b[0m \u001b[1;33m=\u001b[0m \u001b[0mfunc\u001b[0m\u001b[1;33m.\u001b[0m\u001b[0m__name__\u001b[0m\u001b[1;33m\u001b[0m\u001b[1;33m\u001b[0m\u001b[0m\n\u001b[0;32m    234\u001b[0m     \u001b[0mfun\u001b[0m\u001b[1;33m.\u001b[0m\u001b[0m__signature__\u001b[0m \u001b[1;33m=\u001b[0m \u001b[0msig\u001b[0m\u001b[1;33m\u001b[0m\u001b[1;33m\u001b[0m\u001b[0m\n",
      "\u001b[1;32m~\\AppData\\Roaming\\Python\\Python38\\site-packages\\IPython\\core\\formatters.py\u001b[0m in \u001b[0;36mcatch_format_error\u001b[1;34m(method, self, *args, **kwargs)\u001b[0m\n\u001b[0;32m    222\u001b[0m     \u001b[1;34m\"\"\"show traceback on failed format call\"\"\"\u001b[0m\u001b[1;33m\u001b[0m\u001b[1;33m\u001b[0m\u001b[0m\n\u001b[0;32m    223\u001b[0m     \u001b[1;32mtry\u001b[0m\u001b[1;33m:\u001b[0m\u001b[1;33m\u001b[0m\u001b[1;33m\u001b[0m\u001b[0m\n\u001b[1;32m--> 224\u001b[1;33m         \u001b[0mr\u001b[0m \u001b[1;33m=\u001b[0m \u001b[0mmethod\u001b[0m\u001b[1;33m(\u001b[0m\u001b[0mself\u001b[0m\u001b[1;33m,\u001b[0m \u001b[1;33m*\u001b[0m\u001b[0margs\u001b[0m\u001b[1;33m,\u001b[0m \u001b[1;33m**\u001b[0m\u001b[0mkwargs\u001b[0m\u001b[1;33m)\u001b[0m\u001b[1;33m\u001b[0m\u001b[1;33m\u001b[0m\u001b[0m\n\u001b[0m\u001b[0;32m    225\u001b[0m     \u001b[1;32mexcept\u001b[0m \u001b[0mNotImplementedError\u001b[0m\u001b[1;33m:\u001b[0m\u001b[1;33m\u001b[0m\u001b[1;33m\u001b[0m\u001b[0m\n\u001b[0;32m    226\u001b[0m         \u001b[1;31m# don't warn on NotImplementedErrors\u001b[0m\u001b[1;33m\u001b[0m\u001b[1;33m\u001b[0m\u001b[1;33m\u001b[0m\u001b[0m\n",
      "\u001b[1;32m~\\AppData\\Roaming\\Python\\Python38\\site-packages\\IPython\\core\\formatters.py\u001b[0m in \u001b[0;36m__call__\u001b[1;34m(self, obj)\u001b[0m\n\u001b[0;32m    339\u001b[0m                 \u001b[1;32mpass\u001b[0m\u001b[1;33m\u001b[0m\u001b[1;33m\u001b[0m\u001b[0m\n\u001b[0;32m    340\u001b[0m             \u001b[1;32melse\u001b[0m\u001b[1;33m:\u001b[0m\u001b[1;33m\u001b[0m\u001b[1;33m\u001b[0m\u001b[0m\n\u001b[1;32m--> 341\u001b[1;33m                 \u001b[1;32mreturn\u001b[0m \u001b[0mprinter\u001b[0m\u001b[1;33m(\u001b[0m\u001b[0mobj\u001b[0m\u001b[1;33m)\u001b[0m\u001b[1;33m\u001b[0m\u001b[1;33m\u001b[0m\u001b[0m\n\u001b[0m\u001b[0;32m    342\u001b[0m             \u001b[1;31m# Finally look for special method names\u001b[0m\u001b[1;33m\u001b[0m\u001b[1;33m\u001b[0m\u001b[1;33m\u001b[0m\u001b[0m\n\u001b[0;32m    343\u001b[0m             \u001b[0mmethod\u001b[0m \u001b[1;33m=\u001b[0m \u001b[0mget_real_method\u001b[0m\u001b[1;33m(\u001b[0m\u001b[0mobj\u001b[0m\u001b[1;33m,\u001b[0m \u001b[0mself\u001b[0m\u001b[1;33m.\u001b[0m\u001b[0mprint_method\u001b[0m\u001b[1;33m)\u001b[0m\u001b[1;33m\u001b[0m\u001b[1;33m\u001b[0m\u001b[0m\n",
      "\u001b[1;32m~\\AppData\\Roaming\\Python\\Python38\\site-packages\\IPython\\core\\pylabtools.py\u001b[0m in \u001b[0;36m<lambda>\u001b[1;34m(fig)\u001b[0m\n\u001b[0;32m    246\u001b[0m \u001b[1;33m\u001b[0m\u001b[0m\n\u001b[0;32m    247\u001b[0m     \u001b[1;32mif\u001b[0m \u001b[1;34m'png'\u001b[0m \u001b[1;32min\u001b[0m \u001b[0mformats\u001b[0m\u001b[1;33m:\u001b[0m\u001b[1;33m\u001b[0m\u001b[1;33m\u001b[0m\u001b[0m\n\u001b[1;32m--> 248\u001b[1;33m         \u001b[0mpng_formatter\u001b[0m\u001b[1;33m.\u001b[0m\u001b[0mfor_type\u001b[0m\u001b[1;33m(\u001b[0m\u001b[0mFigure\u001b[0m\u001b[1;33m,\u001b[0m \u001b[1;32mlambda\u001b[0m \u001b[0mfig\u001b[0m\u001b[1;33m:\u001b[0m \u001b[0mprint_figure\u001b[0m\u001b[1;33m(\u001b[0m\u001b[0mfig\u001b[0m\u001b[1;33m,\u001b[0m \u001b[1;34m'png'\u001b[0m\u001b[1;33m,\u001b[0m \u001b[1;33m**\u001b[0m\u001b[0mkwargs\u001b[0m\u001b[1;33m)\u001b[0m\u001b[1;33m)\u001b[0m\u001b[1;33m\u001b[0m\u001b[1;33m\u001b[0m\u001b[0m\n\u001b[0m\u001b[0;32m    249\u001b[0m     \u001b[1;32mif\u001b[0m \u001b[1;34m'retina'\u001b[0m \u001b[1;32min\u001b[0m \u001b[0mformats\u001b[0m \u001b[1;32mor\u001b[0m \u001b[1;34m'png2x'\u001b[0m \u001b[1;32min\u001b[0m \u001b[0mformats\u001b[0m\u001b[1;33m:\u001b[0m\u001b[1;33m\u001b[0m\u001b[1;33m\u001b[0m\u001b[0m\n\u001b[0;32m    250\u001b[0m         \u001b[0mpng_formatter\u001b[0m\u001b[1;33m.\u001b[0m\u001b[0mfor_type\u001b[0m\u001b[1;33m(\u001b[0m\u001b[0mFigure\u001b[0m\u001b[1;33m,\u001b[0m \u001b[1;32mlambda\u001b[0m \u001b[0mfig\u001b[0m\u001b[1;33m:\u001b[0m \u001b[0mretina_figure\u001b[0m\u001b[1;33m(\u001b[0m\u001b[0mfig\u001b[0m\u001b[1;33m,\u001b[0m \u001b[1;33m**\u001b[0m\u001b[0mkwargs\u001b[0m\u001b[1;33m)\u001b[0m\u001b[1;33m)\u001b[0m\u001b[1;33m\u001b[0m\u001b[1;33m\u001b[0m\u001b[0m\n",
      "\u001b[1;32m~\\AppData\\Roaming\\Python\\Python38\\site-packages\\IPython\\core\\pylabtools.py\u001b[0m in \u001b[0;36mprint_figure\u001b[1;34m(fig, fmt, bbox_inches, **kwargs)\u001b[0m\n\u001b[0;32m    130\u001b[0m         \u001b[0mFigureCanvasBase\u001b[0m\u001b[1;33m(\u001b[0m\u001b[0mfig\u001b[0m\u001b[1;33m)\u001b[0m\u001b[1;33m\u001b[0m\u001b[1;33m\u001b[0m\u001b[0m\n\u001b[0;32m    131\u001b[0m \u001b[1;33m\u001b[0m\u001b[0m\n\u001b[1;32m--> 132\u001b[1;33m     \u001b[0mfig\u001b[0m\u001b[1;33m.\u001b[0m\u001b[0mcanvas\u001b[0m\u001b[1;33m.\u001b[0m\u001b[0mprint_figure\u001b[0m\u001b[1;33m(\u001b[0m\u001b[0mbytes_io\u001b[0m\u001b[1;33m,\u001b[0m \u001b[1;33m**\u001b[0m\u001b[0mkw\u001b[0m\u001b[1;33m)\u001b[0m\u001b[1;33m\u001b[0m\u001b[1;33m\u001b[0m\u001b[0m\n\u001b[0m\u001b[0;32m    133\u001b[0m     \u001b[0mdata\u001b[0m \u001b[1;33m=\u001b[0m \u001b[0mbytes_io\u001b[0m\u001b[1;33m.\u001b[0m\u001b[0mgetvalue\u001b[0m\u001b[1;33m(\u001b[0m\u001b[1;33m)\u001b[0m\u001b[1;33m\u001b[0m\u001b[1;33m\u001b[0m\u001b[0m\n\u001b[0;32m    134\u001b[0m     \u001b[1;32mif\u001b[0m \u001b[0mfmt\u001b[0m \u001b[1;33m==\u001b[0m \u001b[1;34m'svg'\u001b[0m\u001b[1;33m:\u001b[0m\u001b[1;33m\u001b[0m\u001b[1;33m\u001b[0m\u001b[0m\n",
      "\u001b[1;32m~\\AppData\\Local\\Programs\\Python\\Python38\\lib\\site-packages\\matplotlib\\backend_bases.py\u001b[0m in \u001b[0;36mprint_figure\u001b[1;34m(self, filename, dpi, facecolor, edgecolor, orientation, format, bbox_inches, pad_inches, bbox_extra_artists, backend, **kwargs)\u001b[0m\n\u001b[0;32m   2253\u001b[0m                 \u001b[1;31m# force the figure dpi to 72), so we need to set it again here.\u001b[0m\u001b[1;33m\u001b[0m\u001b[1;33m\u001b[0m\u001b[1;33m\u001b[0m\u001b[0m\n\u001b[0;32m   2254\u001b[0m                 \u001b[1;32mwith\u001b[0m \u001b[0mcbook\u001b[0m\u001b[1;33m.\u001b[0m\u001b[0m_setattr_cm\u001b[0m\u001b[1;33m(\u001b[0m\u001b[0mself\u001b[0m\u001b[1;33m.\u001b[0m\u001b[0mfigure\u001b[0m\u001b[1;33m,\u001b[0m \u001b[0mdpi\u001b[0m\u001b[1;33m=\u001b[0m\u001b[0mdpi\u001b[0m\u001b[1;33m)\u001b[0m\u001b[1;33m:\u001b[0m\u001b[1;33m\u001b[0m\u001b[1;33m\u001b[0m\u001b[0m\n\u001b[1;32m-> 2255\u001b[1;33m                     result = print_method(\n\u001b[0m\u001b[0;32m   2256\u001b[0m                         \u001b[0mfilename\u001b[0m\u001b[1;33m,\u001b[0m\u001b[1;33m\u001b[0m\u001b[1;33m\u001b[0m\u001b[0m\n\u001b[0;32m   2257\u001b[0m                         \u001b[0mfacecolor\u001b[0m\u001b[1;33m=\u001b[0m\u001b[0mfacecolor\u001b[0m\u001b[1;33m,\u001b[0m\u001b[1;33m\u001b[0m\u001b[1;33m\u001b[0m\u001b[0m\n",
      "\u001b[1;32m~\\AppData\\Local\\Programs\\Python\\Python38\\lib\\site-packages\\matplotlib\\backend_bases.py\u001b[0m in \u001b[0;36mwrapper\u001b[1;34m(*args, **kwargs)\u001b[0m\n\u001b[0;32m   1667\u001b[0m             \u001b[0mkwargs\u001b[0m\u001b[1;33m.\u001b[0m\u001b[0mpop\u001b[0m\u001b[1;33m(\u001b[0m\u001b[0marg\u001b[0m\u001b[1;33m)\u001b[0m\u001b[1;33m\u001b[0m\u001b[1;33m\u001b[0m\u001b[0m\n\u001b[0;32m   1668\u001b[0m \u001b[1;33m\u001b[0m\u001b[0m\n\u001b[1;32m-> 1669\u001b[1;33m         \u001b[1;32mreturn\u001b[0m \u001b[0mfunc\u001b[0m\u001b[1;33m(\u001b[0m\u001b[1;33m*\u001b[0m\u001b[0margs\u001b[0m\u001b[1;33m,\u001b[0m \u001b[1;33m**\u001b[0m\u001b[0mkwargs\u001b[0m\u001b[1;33m)\u001b[0m\u001b[1;33m\u001b[0m\u001b[1;33m\u001b[0m\u001b[0m\n\u001b[0m\u001b[0;32m   1670\u001b[0m \u001b[1;33m\u001b[0m\u001b[0m\n\u001b[0;32m   1671\u001b[0m     \u001b[1;32mreturn\u001b[0m \u001b[0mwrapper\u001b[0m\u001b[1;33m\u001b[0m\u001b[1;33m\u001b[0m\u001b[0m\n",
      "\u001b[1;32m~\\AppData\\Local\\Programs\\Python\\Python38\\lib\\site-packages\\matplotlib\\backends\\backend_agg.py\u001b[0m in \u001b[0;36mprint_png\u001b[1;34m(self, filename_or_obj, metadata, pil_kwargs, *args)\u001b[0m\n\u001b[0;32m    506\u001b[0m             \u001b[1;33m*\u001b[0m\u001b[0mmetadata\u001b[0m\u001b[1;33m*\u001b[0m\u001b[1;33m,\u001b[0m \u001b[0mincluding\u001b[0m \u001b[0mthe\u001b[0m \u001b[0mdefault\u001b[0m \u001b[1;34m'Software'\u001b[0m \u001b[0mkey\u001b[0m\u001b[1;33m.\u001b[0m\u001b[1;33m\u001b[0m\u001b[1;33m\u001b[0m\u001b[0m\n\u001b[0;32m    507\u001b[0m         \"\"\"\n\u001b[1;32m--> 508\u001b[1;33m         \u001b[0mFigureCanvasAgg\u001b[0m\u001b[1;33m.\u001b[0m\u001b[0mdraw\u001b[0m\u001b[1;33m(\u001b[0m\u001b[0mself\u001b[0m\u001b[1;33m)\u001b[0m\u001b[1;33m\u001b[0m\u001b[1;33m\u001b[0m\u001b[0m\n\u001b[0m\u001b[0;32m    509\u001b[0m         mpl.image.imsave(\n\u001b[0;32m    510\u001b[0m             \u001b[0mfilename_or_obj\u001b[0m\u001b[1;33m,\u001b[0m \u001b[0mself\u001b[0m\u001b[1;33m.\u001b[0m\u001b[0mbuffer_rgba\u001b[0m\u001b[1;33m(\u001b[0m\u001b[1;33m)\u001b[0m\u001b[1;33m,\u001b[0m \u001b[0mformat\u001b[0m\u001b[1;33m=\u001b[0m\u001b[1;34m\"png\"\u001b[0m\u001b[1;33m,\u001b[0m \u001b[0morigin\u001b[0m\u001b[1;33m=\u001b[0m\u001b[1;34m\"upper\"\u001b[0m\u001b[1;33m,\u001b[0m\u001b[1;33m\u001b[0m\u001b[1;33m\u001b[0m\u001b[0m\n",
      "\u001b[1;32m~\\AppData\\Local\\Programs\\Python\\Python38\\lib\\site-packages\\matplotlib\\backends\\backend_agg.py\u001b[0m in \u001b[0;36mdraw\u001b[1;34m(self)\u001b[0m\n\u001b[0;32m    404\u001b[0m              (self.toolbar._wait_cursor_for_draw_cm() if self.toolbar\n\u001b[0;32m    405\u001b[0m               else nullcontext()):\n\u001b[1;32m--> 406\u001b[1;33m             \u001b[0mself\u001b[0m\u001b[1;33m.\u001b[0m\u001b[0mfigure\u001b[0m\u001b[1;33m.\u001b[0m\u001b[0mdraw\u001b[0m\u001b[1;33m(\u001b[0m\u001b[0mself\u001b[0m\u001b[1;33m.\u001b[0m\u001b[0mrenderer\u001b[0m\u001b[1;33m)\u001b[0m\u001b[1;33m\u001b[0m\u001b[1;33m\u001b[0m\u001b[0m\n\u001b[0m\u001b[0;32m    407\u001b[0m             \u001b[1;31m# A GUI class may be need to update a window using this draw, so\u001b[0m\u001b[1;33m\u001b[0m\u001b[1;33m\u001b[0m\u001b[1;33m\u001b[0m\u001b[0m\n\u001b[0;32m    408\u001b[0m             \u001b[1;31m# don't forget to call the superclass.\u001b[0m\u001b[1;33m\u001b[0m\u001b[1;33m\u001b[0m\u001b[1;33m\u001b[0m\u001b[0m\n",
      "\u001b[1;32m~\\AppData\\Local\\Programs\\Python\\Python38\\lib\\site-packages\\matplotlib\\artist.py\u001b[0m in \u001b[0;36mdraw_wrapper\u001b[1;34m(artist, renderer, *args, **kwargs)\u001b[0m\n\u001b[0;32m     72\u001b[0m     \u001b[1;33m@\u001b[0m\u001b[0mwraps\u001b[0m\u001b[1;33m(\u001b[0m\u001b[0mdraw\u001b[0m\u001b[1;33m)\u001b[0m\u001b[1;33m\u001b[0m\u001b[1;33m\u001b[0m\u001b[0m\n\u001b[0;32m     73\u001b[0m     \u001b[1;32mdef\u001b[0m \u001b[0mdraw_wrapper\u001b[0m\u001b[1;33m(\u001b[0m\u001b[0martist\u001b[0m\u001b[1;33m,\u001b[0m \u001b[0mrenderer\u001b[0m\u001b[1;33m,\u001b[0m \u001b[1;33m*\u001b[0m\u001b[0margs\u001b[0m\u001b[1;33m,\u001b[0m \u001b[1;33m**\u001b[0m\u001b[0mkwargs\u001b[0m\u001b[1;33m)\u001b[0m\u001b[1;33m:\u001b[0m\u001b[1;33m\u001b[0m\u001b[1;33m\u001b[0m\u001b[0m\n\u001b[1;32m---> 74\u001b[1;33m         \u001b[0mresult\u001b[0m \u001b[1;33m=\u001b[0m \u001b[0mdraw\u001b[0m\u001b[1;33m(\u001b[0m\u001b[0martist\u001b[0m\u001b[1;33m,\u001b[0m \u001b[0mrenderer\u001b[0m\u001b[1;33m,\u001b[0m \u001b[1;33m*\u001b[0m\u001b[0margs\u001b[0m\u001b[1;33m,\u001b[0m \u001b[1;33m**\u001b[0m\u001b[0mkwargs\u001b[0m\u001b[1;33m)\u001b[0m\u001b[1;33m\u001b[0m\u001b[1;33m\u001b[0m\u001b[0m\n\u001b[0m\u001b[0;32m     75\u001b[0m         \u001b[1;32mif\u001b[0m \u001b[0mrenderer\u001b[0m\u001b[1;33m.\u001b[0m\u001b[0m_rasterizing\u001b[0m\u001b[1;33m:\u001b[0m\u001b[1;33m\u001b[0m\u001b[1;33m\u001b[0m\u001b[0m\n\u001b[0;32m     76\u001b[0m             \u001b[0mrenderer\u001b[0m\u001b[1;33m.\u001b[0m\u001b[0mstop_rasterizing\u001b[0m\u001b[1;33m(\u001b[0m\u001b[1;33m)\u001b[0m\u001b[1;33m\u001b[0m\u001b[1;33m\u001b[0m\u001b[0m\n",
      "\u001b[1;32m~\\AppData\\Local\\Programs\\Python\\Python38\\lib\\site-packages\\matplotlib\\artist.py\u001b[0m in \u001b[0;36mdraw_wrapper\u001b[1;34m(artist, renderer, *args, **kwargs)\u001b[0m\n\u001b[0;32m     49\u001b[0m                 \u001b[0mrenderer\u001b[0m\u001b[1;33m.\u001b[0m\u001b[0mstart_filter\u001b[0m\u001b[1;33m(\u001b[0m\u001b[1;33m)\u001b[0m\u001b[1;33m\u001b[0m\u001b[1;33m\u001b[0m\u001b[0m\n\u001b[0;32m     50\u001b[0m \u001b[1;33m\u001b[0m\u001b[0m\n\u001b[1;32m---> 51\u001b[1;33m             \u001b[1;32mreturn\u001b[0m \u001b[0mdraw\u001b[0m\u001b[1;33m(\u001b[0m\u001b[0martist\u001b[0m\u001b[1;33m,\u001b[0m \u001b[0mrenderer\u001b[0m\u001b[1;33m,\u001b[0m \u001b[1;33m*\u001b[0m\u001b[0margs\u001b[0m\u001b[1;33m,\u001b[0m \u001b[1;33m**\u001b[0m\u001b[0mkwargs\u001b[0m\u001b[1;33m)\u001b[0m\u001b[1;33m\u001b[0m\u001b[1;33m\u001b[0m\u001b[0m\n\u001b[0m\u001b[0;32m     52\u001b[0m         \u001b[1;32mfinally\u001b[0m\u001b[1;33m:\u001b[0m\u001b[1;33m\u001b[0m\u001b[1;33m\u001b[0m\u001b[0m\n\u001b[0;32m     53\u001b[0m             \u001b[1;32mif\u001b[0m \u001b[0martist\u001b[0m\u001b[1;33m.\u001b[0m\u001b[0mget_agg_filter\u001b[0m\u001b[1;33m(\u001b[0m\u001b[1;33m)\u001b[0m \u001b[1;32mis\u001b[0m \u001b[1;32mnot\u001b[0m \u001b[1;32mNone\u001b[0m\u001b[1;33m:\u001b[0m\u001b[1;33m\u001b[0m\u001b[1;33m\u001b[0m\u001b[0m\n",
      "\u001b[1;32m~\\AppData\\Local\\Programs\\Python\\Python38\\lib\\site-packages\\matplotlib\\figure.py\u001b[0m in \u001b[0;36mdraw\u001b[1;34m(self, renderer)\u001b[0m\n\u001b[0;32m   2735\u001b[0m \u001b[1;33m\u001b[0m\u001b[0m\n\u001b[0;32m   2736\u001b[0m             \u001b[0mself\u001b[0m\u001b[1;33m.\u001b[0m\u001b[0mpatch\u001b[0m\u001b[1;33m.\u001b[0m\u001b[0mdraw\u001b[0m\u001b[1;33m(\u001b[0m\u001b[0mrenderer\u001b[0m\u001b[1;33m)\u001b[0m\u001b[1;33m\u001b[0m\u001b[1;33m\u001b[0m\u001b[0m\n\u001b[1;32m-> 2737\u001b[1;33m             mimage._draw_list_compositing_images(\n\u001b[0m\u001b[0;32m   2738\u001b[0m                 renderer, self, artists, self.suppressComposite)\n\u001b[0;32m   2739\u001b[0m \u001b[1;33m\u001b[0m\u001b[0m\n",
      "\u001b[1;32m~\\AppData\\Local\\Programs\\Python\\Python38\\lib\\site-packages\\matplotlib\\image.py\u001b[0m in \u001b[0;36m_draw_list_compositing_images\u001b[1;34m(renderer, parent, artists, suppress_composite)\u001b[0m\n\u001b[0;32m    130\u001b[0m     \u001b[1;32mif\u001b[0m \u001b[0mnot_composite\u001b[0m \u001b[1;32mor\u001b[0m \u001b[1;32mnot\u001b[0m \u001b[0mhas_images\u001b[0m\u001b[1;33m:\u001b[0m\u001b[1;33m\u001b[0m\u001b[1;33m\u001b[0m\u001b[0m\n\u001b[0;32m    131\u001b[0m         \u001b[1;32mfor\u001b[0m \u001b[0ma\u001b[0m \u001b[1;32min\u001b[0m \u001b[0martists\u001b[0m\u001b[1;33m:\u001b[0m\u001b[1;33m\u001b[0m\u001b[1;33m\u001b[0m\u001b[0m\n\u001b[1;32m--> 132\u001b[1;33m             \u001b[0ma\u001b[0m\u001b[1;33m.\u001b[0m\u001b[0mdraw\u001b[0m\u001b[1;33m(\u001b[0m\u001b[0mrenderer\u001b[0m\u001b[1;33m)\u001b[0m\u001b[1;33m\u001b[0m\u001b[1;33m\u001b[0m\u001b[0m\n\u001b[0m\u001b[0;32m    133\u001b[0m     \u001b[1;32melse\u001b[0m\u001b[1;33m:\u001b[0m\u001b[1;33m\u001b[0m\u001b[1;33m\u001b[0m\u001b[0m\n\u001b[0;32m    134\u001b[0m         \u001b[1;31m# Composite any adjacent images together\u001b[0m\u001b[1;33m\u001b[0m\u001b[1;33m\u001b[0m\u001b[1;33m\u001b[0m\u001b[0m\n",
      "\u001b[1;32m~\\AppData\\Local\\Programs\\Python\\Python38\\lib\\site-packages\\matplotlib\\artist.py\u001b[0m in \u001b[0;36mdraw_wrapper\u001b[1;34m(artist, renderer, *args, **kwargs)\u001b[0m\n\u001b[0;32m     49\u001b[0m                 \u001b[0mrenderer\u001b[0m\u001b[1;33m.\u001b[0m\u001b[0mstart_filter\u001b[0m\u001b[1;33m(\u001b[0m\u001b[1;33m)\u001b[0m\u001b[1;33m\u001b[0m\u001b[1;33m\u001b[0m\u001b[0m\n\u001b[0;32m     50\u001b[0m \u001b[1;33m\u001b[0m\u001b[0m\n\u001b[1;32m---> 51\u001b[1;33m             \u001b[1;32mreturn\u001b[0m \u001b[0mdraw\u001b[0m\u001b[1;33m(\u001b[0m\u001b[0martist\u001b[0m\u001b[1;33m,\u001b[0m \u001b[0mrenderer\u001b[0m\u001b[1;33m,\u001b[0m \u001b[1;33m*\u001b[0m\u001b[0margs\u001b[0m\u001b[1;33m,\u001b[0m \u001b[1;33m**\u001b[0m\u001b[0mkwargs\u001b[0m\u001b[1;33m)\u001b[0m\u001b[1;33m\u001b[0m\u001b[1;33m\u001b[0m\u001b[0m\n\u001b[0m\u001b[0;32m     52\u001b[0m         \u001b[1;32mfinally\u001b[0m\u001b[1;33m:\u001b[0m\u001b[1;33m\u001b[0m\u001b[1;33m\u001b[0m\u001b[0m\n\u001b[0;32m     53\u001b[0m             \u001b[1;32mif\u001b[0m \u001b[0martist\u001b[0m\u001b[1;33m.\u001b[0m\u001b[0mget_agg_filter\u001b[0m\u001b[1;33m(\u001b[0m\u001b[1;33m)\u001b[0m \u001b[1;32mis\u001b[0m \u001b[1;32mnot\u001b[0m \u001b[1;32mNone\u001b[0m\u001b[1;33m:\u001b[0m\u001b[1;33m\u001b[0m\u001b[1;33m\u001b[0m\u001b[0m\n",
      "\u001b[1;32m~\\AppData\\Local\\Programs\\Python\\Python38\\lib\\site-packages\\matplotlib\\_api\\deprecation.py\u001b[0m in \u001b[0;36mwrapper\u001b[1;34m(*inner_args, **inner_kwargs)\u001b[0m\n\u001b[0;32m    429\u001b[0m                          \u001b[1;32melse\u001b[0m \u001b[0mdeprecation_addendum\u001b[0m\u001b[1;33m,\u001b[0m\u001b[1;33m\u001b[0m\u001b[1;33m\u001b[0m\u001b[0m\n\u001b[0;32m    430\u001b[0m                 **kwargs)\n\u001b[1;32m--> 431\u001b[1;33m         \u001b[1;32mreturn\u001b[0m \u001b[0mfunc\u001b[0m\u001b[1;33m(\u001b[0m\u001b[1;33m*\u001b[0m\u001b[0minner_args\u001b[0m\u001b[1;33m,\u001b[0m \u001b[1;33m**\u001b[0m\u001b[0minner_kwargs\u001b[0m\u001b[1;33m)\u001b[0m\u001b[1;33m\u001b[0m\u001b[1;33m\u001b[0m\u001b[0m\n\u001b[0m\u001b[0;32m    432\u001b[0m \u001b[1;33m\u001b[0m\u001b[0m\n\u001b[0;32m    433\u001b[0m     \u001b[1;32mreturn\u001b[0m \u001b[0mwrapper\u001b[0m\u001b[1;33m\u001b[0m\u001b[1;33m\u001b[0m\u001b[0m\n",
      "\u001b[1;32m~\\AppData\\Local\\Programs\\Python\\Python38\\lib\\site-packages\\matplotlib\\axes\\_base.py\u001b[0m in \u001b[0;36mdraw\u001b[1;34m(self, renderer, inframe)\u001b[0m\n\u001b[0;32m   2923\u001b[0m             \u001b[0mrenderer\u001b[0m\u001b[1;33m.\u001b[0m\u001b[0mstop_rasterizing\u001b[0m\u001b[1;33m(\u001b[0m\u001b[1;33m)\u001b[0m\u001b[1;33m\u001b[0m\u001b[1;33m\u001b[0m\u001b[0m\n\u001b[0;32m   2924\u001b[0m \u001b[1;33m\u001b[0m\u001b[0m\n\u001b[1;32m-> 2925\u001b[1;33m         \u001b[0mmimage\u001b[0m\u001b[1;33m.\u001b[0m\u001b[0m_draw_list_compositing_images\u001b[0m\u001b[1;33m(\u001b[0m\u001b[0mrenderer\u001b[0m\u001b[1;33m,\u001b[0m \u001b[0mself\u001b[0m\u001b[1;33m,\u001b[0m \u001b[0martists\u001b[0m\u001b[1;33m)\u001b[0m\u001b[1;33m\u001b[0m\u001b[1;33m\u001b[0m\u001b[0m\n\u001b[0m\u001b[0;32m   2926\u001b[0m \u001b[1;33m\u001b[0m\u001b[0m\n\u001b[0;32m   2927\u001b[0m         \u001b[0mrenderer\u001b[0m\u001b[1;33m.\u001b[0m\u001b[0mclose_group\u001b[0m\u001b[1;33m(\u001b[0m\u001b[1;34m'axes'\u001b[0m\u001b[1;33m)\u001b[0m\u001b[1;33m\u001b[0m\u001b[1;33m\u001b[0m\u001b[0m\n",
      "\u001b[1;32m~\\AppData\\Local\\Programs\\Python\\Python38\\lib\\site-packages\\matplotlib\\image.py\u001b[0m in \u001b[0;36m_draw_list_compositing_images\u001b[1;34m(renderer, parent, artists, suppress_composite)\u001b[0m\n\u001b[0;32m    130\u001b[0m     \u001b[1;32mif\u001b[0m \u001b[0mnot_composite\u001b[0m \u001b[1;32mor\u001b[0m \u001b[1;32mnot\u001b[0m \u001b[0mhas_images\u001b[0m\u001b[1;33m:\u001b[0m\u001b[1;33m\u001b[0m\u001b[1;33m\u001b[0m\u001b[0m\n\u001b[0;32m    131\u001b[0m         \u001b[1;32mfor\u001b[0m \u001b[0ma\u001b[0m \u001b[1;32min\u001b[0m \u001b[0martists\u001b[0m\u001b[1;33m:\u001b[0m\u001b[1;33m\u001b[0m\u001b[1;33m\u001b[0m\u001b[0m\n\u001b[1;32m--> 132\u001b[1;33m             \u001b[0ma\u001b[0m\u001b[1;33m.\u001b[0m\u001b[0mdraw\u001b[0m\u001b[1;33m(\u001b[0m\u001b[0mrenderer\u001b[0m\u001b[1;33m)\u001b[0m\u001b[1;33m\u001b[0m\u001b[1;33m\u001b[0m\u001b[0m\n\u001b[0m\u001b[0;32m    133\u001b[0m     \u001b[1;32melse\u001b[0m\u001b[1;33m:\u001b[0m\u001b[1;33m\u001b[0m\u001b[1;33m\u001b[0m\u001b[0m\n\u001b[0;32m    134\u001b[0m         \u001b[1;31m# Composite any adjacent images together\u001b[0m\u001b[1;33m\u001b[0m\u001b[1;33m\u001b[0m\u001b[1;33m\u001b[0m\u001b[0m\n",
      "\u001b[1;32m~\\AppData\\Local\\Programs\\Python\\Python38\\lib\\site-packages\\matplotlib\\artist.py\u001b[0m in \u001b[0;36mdraw_wrapper\u001b[1;34m(artist, renderer, *args, **kwargs)\u001b[0m\n\u001b[0;32m     49\u001b[0m                 \u001b[0mrenderer\u001b[0m\u001b[1;33m.\u001b[0m\u001b[0mstart_filter\u001b[0m\u001b[1;33m(\u001b[0m\u001b[1;33m)\u001b[0m\u001b[1;33m\u001b[0m\u001b[1;33m\u001b[0m\u001b[0m\n\u001b[0;32m     50\u001b[0m \u001b[1;33m\u001b[0m\u001b[0m\n\u001b[1;32m---> 51\u001b[1;33m             \u001b[1;32mreturn\u001b[0m \u001b[0mdraw\u001b[0m\u001b[1;33m(\u001b[0m\u001b[0martist\u001b[0m\u001b[1;33m,\u001b[0m \u001b[0mrenderer\u001b[0m\u001b[1;33m,\u001b[0m \u001b[1;33m*\u001b[0m\u001b[0margs\u001b[0m\u001b[1;33m,\u001b[0m \u001b[1;33m**\u001b[0m\u001b[0mkwargs\u001b[0m\u001b[1;33m)\u001b[0m\u001b[1;33m\u001b[0m\u001b[1;33m\u001b[0m\u001b[0m\n\u001b[0m\u001b[0;32m     52\u001b[0m         \u001b[1;32mfinally\u001b[0m\u001b[1;33m:\u001b[0m\u001b[1;33m\u001b[0m\u001b[1;33m\u001b[0m\u001b[0m\n\u001b[0;32m     53\u001b[0m             \u001b[1;32mif\u001b[0m \u001b[0martist\u001b[0m\u001b[1;33m.\u001b[0m\u001b[0mget_agg_filter\u001b[0m\u001b[1;33m(\u001b[0m\u001b[1;33m)\u001b[0m \u001b[1;32mis\u001b[0m \u001b[1;32mnot\u001b[0m \u001b[1;32mNone\u001b[0m\u001b[1;33m:\u001b[0m\u001b[1;33m\u001b[0m\u001b[1;33m\u001b[0m\u001b[0m\n",
      "\u001b[1;32m~\\AppData\\Local\\Programs\\Python\\Python38\\lib\\site-packages\\matplotlib\\text.py\u001b[0m in \u001b[0;36mdraw\u001b[1;34m(self, renderer)\u001b[0m\n\u001b[0;32m   1960\u001b[0m         \u001b[1;31m# Draw text, including FancyBboxPatch, after FancyArrowPatch.\u001b[0m\u001b[1;33m\u001b[0m\u001b[1;33m\u001b[0m\u001b[1;33m\u001b[0m\u001b[0m\n\u001b[0;32m   1961\u001b[0m         \u001b[1;31m# Otherwise, a wedge arrowstyle can land partly on top of the Bbox.\u001b[0m\u001b[1;33m\u001b[0m\u001b[1;33m\u001b[0m\u001b[1;33m\u001b[0m\u001b[0m\n\u001b[1;32m-> 1962\u001b[1;33m         \u001b[0mText\u001b[0m\u001b[1;33m.\u001b[0m\u001b[0mdraw\u001b[0m\u001b[1;33m(\u001b[0m\u001b[0mself\u001b[0m\u001b[1;33m,\u001b[0m \u001b[0mrenderer\u001b[0m\u001b[1;33m)\u001b[0m\u001b[1;33m\u001b[0m\u001b[1;33m\u001b[0m\u001b[0m\n\u001b[0m\u001b[0;32m   1963\u001b[0m \u001b[1;33m\u001b[0m\u001b[0m\n\u001b[0;32m   1964\u001b[0m     \u001b[1;32mdef\u001b[0m \u001b[0mget_window_extent\u001b[0m\u001b[1;33m(\u001b[0m\u001b[0mself\u001b[0m\u001b[1;33m,\u001b[0m \u001b[0mrenderer\u001b[0m\u001b[1;33m=\u001b[0m\u001b[1;32mNone\u001b[0m\u001b[1;33m)\u001b[0m\u001b[1;33m:\u001b[0m\u001b[1;33m\u001b[0m\u001b[1;33m\u001b[0m\u001b[0m\n",
      "\u001b[1;32m~\\AppData\\Local\\Programs\\Python\\Python38\\lib\\site-packages\\matplotlib\\artist.py\u001b[0m in \u001b[0;36mdraw_wrapper\u001b[1;34m(artist, renderer, *args, **kwargs)\u001b[0m\n\u001b[0;32m     49\u001b[0m                 \u001b[0mrenderer\u001b[0m\u001b[1;33m.\u001b[0m\u001b[0mstart_filter\u001b[0m\u001b[1;33m(\u001b[0m\u001b[1;33m)\u001b[0m\u001b[1;33m\u001b[0m\u001b[1;33m\u001b[0m\u001b[0m\n\u001b[0;32m     50\u001b[0m \u001b[1;33m\u001b[0m\u001b[0m\n\u001b[1;32m---> 51\u001b[1;33m             \u001b[1;32mreturn\u001b[0m \u001b[0mdraw\u001b[0m\u001b[1;33m(\u001b[0m\u001b[0martist\u001b[0m\u001b[1;33m,\u001b[0m \u001b[0mrenderer\u001b[0m\u001b[1;33m,\u001b[0m \u001b[1;33m*\u001b[0m\u001b[0margs\u001b[0m\u001b[1;33m,\u001b[0m \u001b[1;33m**\u001b[0m\u001b[0mkwargs\u001b[0m\u001b[1;33m)\u001b[0m\u001b[1;33m\u001b[0m\u001b[1;33m\u001b[0m\u001b[0m\n\u001b[0m\u001b[0;32m     52\u001b[0m         \u001b[1;32mfinally\u001b[0m\u001b[1;33m:\u001b[0m\u001b[1;33m\u001b[0m\u001b[1;33m\u001b[0m\u001b[0m\n\u001b[0;32m     53\u001b[0m             \u001b[1;32mif\u001b[0m \u001b[0martist\u001b[0m\u001b[1;33m.\u001b[0m\u001b[0mget_agg_filter\u001b[0m\u001b[1;33m(\u001b[0m\u001b[1;33m)\u001b[0m \u001b[1;32mis\u001b[0m \u001b[1;32mnot\u001b[0m \u001b[1;32mNone\u001b[0m\u001b[1;33m:\u001b[0m\u001b[1;33m\u001b[0m\u001b[1;33m\u001b[0m\u001b[0m\n",
      "\u001b[1;32m~\\AppData\\Local\\Programs\\Python\\Python38\\lib\\site-packages\\matplotlib\\text.py\u001b[0m in \u001b[0;36mdraw\u001b[1;34m(self, renderer)\u001b[0m\n\u001b[0;32m    725\u001b[0m                                           mtext=mtext)\n\u001b[0;32m    726\u001b[0m                 \u001b[1;32melse\u001b[0m\u001b[1;33m:\u001b[0m\u001b[1;33m\u001b[0m\u001b[1;33m\u001b[0m\u001b[0m\n\u001b[1;32m--> 727\u001b[1;33m                     textrenderer.draw_text(gc, x, y, clean_line,\n\u001b[0m\u001b[0;32m    728\u001b[0m                                            \u001b[0mtextobj\u001b[0m\u001b[1;33m.\u001b[0m\u001b[0m_fontproperties\u001b[0m\u001b[1;33m,\u001b[0m \u001b[0mangle\u001b[0m\u001b[1;33m,\u001b[0m\u001b[1;33m\u001b[0m\u001b[1;33m\u001b[0m\u001b[0m\n\u001b[0;32m    729\u001b[0m                                            ismath=ismath, mtext=mtext)\n",
      "\u001b[1;32m~\\AppData\\Local\\Programs\\Python\\Python38\\lib\\site-packages\\matplotlib\\backends\\backend_agg.py\u001b[0m in \u001b[0;36mdraw_text\u001b[1;34m(self, gc, x, y, s, prop, angle, ismath, mtext)\u001b[0m\n\u001b[0;32m    201\u001b[0m         \u001b[1;31m# We pass '0' for angle here, since it will be rotated (in raster\u001b[0m\u001b[1;33m\u001b[0m\u001b[1;33m\u001b[0m\u001b[1;33m\u001b[0m\u001b[0m\n\u001b[0;32m    202\u001b[0m         \u001b[1;31m# space) in the following call to draw_text_image).\u001b[0m\u001b[1;33m\u001b[0m\u001b[1;33m\u001b[0m\u001b[1;33m\u001b[0m\u001b[0m\n\u001b[1;32m--> 203\u001b[1;33m         \u001b[0mfont\u001b[0m\u001b[1;33m.\u001b[0m\u001b[0mset_text\u001b[0m\u001b[1;33m(\u001b[0m\u001b[0ms\u001b[0m\u001b[1;33m,\u001b[0m \u001b[1;36m0\u001b[0m\u001b[1;33m,\u001b[0m \u001b[0mflags\u001b[0m\u001b[1;33m=\u001b[0m\u001b[0mflags\u001b[0m\u001b[1;33m)\u001b[0m\u001b[1;33m\u001b[0m\u001b[1;33m\u001b[0m\u001b[0m\n\u001b[0m\u001b[0;32m    204\u001b[0m         font.draw_glyphs_to_bitmap(\n\u001b[0;32m    205\u001b[0m             antialiased=mpl.rcParams['text.antialiased'])\n",
      "\u001b[1;31mKeyboardInterrupt\u001b[0m: "
     ]
    }
   ],
   "source": [
    "dtc_tuned = DecisionTreeClassifier(criterion = 'entropy', max_depth=50, min_samples_split= 2)\n",
    "\n",
    "plt.figure(figsize=(12,12))  # set plot size (denoted in inches)\n",
    "tree.plot_tree(dtc_tuned.fit(X_train,y_train), fontsize=10)\n",
    "plt.show()"
   ]
  },
  {
   "cell_type": "markdown",
   "metadata": {},
   "source": [
    "**Feature importance**"
   ]
  },
  {
   "cell_type": "code",
   "execution_count": 68,
   "metadata": {},
   "outputs": [
    {
     "name": "stdout",
     "output_type": "stream",
     "text": [
      "light 0.47818471852541383\n",
      "co2 0.20620894240714588\n",
      "temperature 0.16024520130565656\n",
      "humidity 0.1553611377617837\n"
     ]
    }
   ],
   "source": [
    "for importance, name in sorted(zip(dtc_tuned.feature_importances_, X_train.columns),reverse=True)[:5]:\n",
    "    print (name, importance)"
   ]
  },
  {
   "cell_type": "code",
   "execution_count": 67,
   "metadata": {},
   "outputs": [
    {
     "data": {
      "text/plain": [
       "Text(0.5, 0, 'Relative Importance')"
      ]
     },
     "execution_count": 67,
     "metadata": {},
     "output_type": "execute_result"
    },
    {
     "data": {
      "image/png": "[encoded data removed]",
      "text/plain": [
       "<Figure size 432x288 with 1 Axes>"
      ]
     },
     "metadata": {
      "needs_background": "light"
     },
     "output_type": "display_data"
    }
   ],
   "source": [
    "features = X_train.columns\n",
    "importances = dtc_tuned.feature_importances_\n",
    "indices = np.argsort(importances)\n",
    "plt.title('Feature Importances')\n",
    "plt.barh(range(len(indices)), importances[indices], color='b', align='center')\n",
    "plt.yticks(range(len(indices)), [features[i] for i in indices])\n",
    "plt.xlabel('Relative Importance')"
   ]
  },
  {
   "cell_type": "markdown",
   "metadata": {},
   "source": [
    "**Assessment per combinazione co2 - Occupancy**"
   ]
  },
  {
   "cell_type": "code",
   "execution_count": 53,
   "metadata": {},
   "outputs": [],
   "source": [
    "y_1= ds_over['occupancy']\n",
    "X_1 = ds_over.drop(['occupancy','light','temperature','humidity','room'], axis=1)\n",
    "\n",
    "X_1_train,X_1_test, y_1_train, y_1_test = train_test_split(X_1,y_1,test_size=0.2,random_state=0)"
   ]
  },
  {
   "cell_type": "code",
   "execution_count": 54,
   "metadata": {},
   "outputs": [
    {
     "name": "stdout",
     "output_type": "stream",
     "text": [
      "Train Accuracy after optimization : 0.7763917948210857\n",
      "Test Accuracy after optimization : 0.7769466797112023\n",
      "Train F1 Score after optimization : 0.7542156283939729\n",
      "Test F1 Score after optimization : 0.7550605239237106\n",
      "[[578218  88881]\n",
      " [208876 458939]]\n",
      "              precision    recall  f1-score   support\n",
      "\n",
      "           0       0.73      0.87      0.80    667099\n",
      "           1       0.84      0.69      0.76    667815\n",
      "\n",
      "    accuracy                           0.78   1334914\n",
      "   macro avg       0.79      0.78      0.78   1334914\n",
      "weighted avg       0.79      0.78      0.78   1334914\n",
      "\n"
     ]
    }
   ],
   "source": [
    "dtc_tuned.fit(X_1_train,y_1_train)\n",
    "Y_train_pred_1 = dtc_tuned.predict(X_1_train)\n",
    "Y_test_pred_1 = dtc_tuned.predict(X_1_test)\n",
    "\n",
    "\n",
    "print(\"Train Accuracy after optimization :\",accuracy_score(y_1_train, Y_train_pred_1))\n",
    "print(\"Test Accuracy after optimization :\",accuracy_score(y_1_test, Y_test_pred_1))\n",
    "print(\"Train F1 Score after optimization :\",f1_score(y_1_train, Y_train_pred_1))\n",
    "print(\"Test F1 Score after optimization :\",f1_score(y_1_test, Y_test_pred_1))\n",
    "print(confusion_matrix(y_1_test, Y_test_pred_1))\n",
    "print(classification_report(y_1_test, Y_test_pred_1))"
   ]
  },
  {
   "cell_type": "code",
   "execution_count": 55,
   "metadata": {},
   "outputs": [
    {
     "data": {
      "image/png": "[encoded data removed]",
      "text/plain": [
       "<Figure size 432x288 with 1 Axes>"
      ]
     },
     "metadata": {
      "needs_background": "light"
     },
     "output_type": "display_data"
    }
   ],
   "source": [
    "probs_dtc_tuned_CO2 = dtc_tuned.predict_proba(X_1_test)\n",
    "preds_dtc_tuned_CO2 = probs_dtc_tuned_CO2[:,1]\n",
    "\n",
    "fpr_dtc_tuned_CO2, tpr_dtc_tuned_CO2, threshold_dtc_tuned_CO2 = metrics.roc_curve(y_1_test, preds_dtc_tuned_CO2)\n",
    "roc_auc_dtc_tuned_CO2 = metrics.auc(fpr_dtc_tuned_CO2, tpr_dtc_tuned_CO2)\n",
    "\n",
    "plt.title('Receiver Operating Characteristic (ROC)')\n",
    "plt.plot(fpr_dtc_tuned_CO2, tpr_dtc_tuned_CO2, 'b', label = 'AUC DTC Tuned CO2= %0.3f' % roc_auc_dtc_tuned_CO2)\n",
    "\n",
    "plt.legend(loc = 'lower right')\n",
    "plt.plot([0, 1], [0, 1],'r--')\n",
    "plt.xlim([0, 1])\n",
    "plt.ylim([0, 1])\n",
    "plt.ylabel('True Positive Rate (Sensitivity)')\n",
    "plt.xlabel('False Positive Rate (1- Specificity)')\n",
    "plt.show()"
   ]
  },
  {
   "cell_type": "markdown",
   "metadata": {},
   "source": [
    "**Assessment per combinazione CO2/light - Occupancy**"
   ]
  },
  {
   "cell_type": "code",
   "execution_count": 59,
   "metadata": {},
   "outputs": [],
   "source": [
    "y_2= ds_over['occupancy']\n",
    "X_2 = ds_over.drop(['occupancy','temperature','humidity','room'], axis=1)"
   ]
  },
  {
   "cell_type": "code",
   "execution_count": 60,
   "metadata": {},
   "outputs": [
    {
     "name": "stdout",
     "output_type": "stream",
     "text": [
      "Train Accuracy after optimization : 0.9453569258820612\n",
      "Test Accuracy after optimization : 0.9390260346359391\n",
      "Train F1 Score after optimization : 0.9463496328827334\n",
      "Test F1 Score after optimization : 0.9403514788831998\n",
      "[[611928  55758]\n",
      " [ 25637 641591]]\n",
      "              precision    recall  f1-score   support\n",
      "\n",
      "           0       0.96      0.92      0.94    667686\n",
      "           1       0.92      0.96      0.94    667228\n",
      "\n",
      "    accuracy                           0.94   1334914\n",
      "   macro avg       0.94      0.94      0.94   1334914\n",
      "weighted avg       0.94      0.94      0.94   1334914\n",
      "\n"
     ]
    }
   ],
   "source": [
    "X_train_2, X_test_2, y_train_2, y_test_2 = train_test_split(X_2, y_2, test_size = 0.2, random_state = 1234)\n",
    "\n",
    "dtc_tuned.fit(X_train_2,y_train_2)\n",
    "Y_train_pred_2 = dtc_tuned.predict(X_train_2)\n",
    "Y_test_pred_2 = dtc_tuned.predict(X_test_2)\n",
    "\n",
    "\n",
    "print(\"Train Accuracy after optimization :\",accuracy_score(y_train_2, Y_train_pred_2))\n",
    "print(\"Test Accuracy after optimization :\",accuracy_score(y_test_2, Y_test_pred_2))\n",
    "print(\"Train F1 Score after optimization :\",f1_score(y_train_2, Y_train_pred_2))\n",
    "print(\"Test F1 Score after optimization :\",f1_score(y_test_2, Y_test_pred_2))\n",
    "print(confusion_matrix(y_test_2, Y_test_pred_2))\n",
    "print(classification_report(y_test_2, Y_test_pred_2))"
   ]
  },
  {
   "cell_type": "code",
   "execution_count": 62,
   "metadata": {},
   "outputs": [
    {
     "data": {
      "image/png": "[encoded data removed]",
      "text/plain": [
       "<Figure size 432x288 with 1 Axes>"
      ]
     },
     "metadata": {
      "needs_background": "light"
     },
     "output_type": "display_data"
    }
   ],
   "source": [
    "probs_dtc_tuned_CO2_light = dtc_tuned.predict_proba(X_test_2)\n",
    "preds_dtc_tuned_CO2_light = probs_dtc_tuned_CO2_light[:,1]\n",
    "\n",
    "fpr_dtc_tuned_CO2_light, tpr_dtc_tuned_CO2_light, threshold_dtc_tuned_CO2_light = metrics.roc_curve(y_test_2, preds_dtc_tuned_CO2_light)\n",
    "roc_auc_dtc_tuned_CO2_light = metrics.auc(fpr_dtc_tuned_CO2_light, tpr_dtc_tuned_CO2_light)\n",
    "\n",
    "plt.title('Receiver Operating Characteristic (ROC)')\n",
    "plt.plot(fpr_dtc_tuned_CO2_light, tpr_dtc_tuned_CO2_light, 'b', label = 'AUC DTC Tuned CO2= %0.3f' % roc_auc_dtc_tuned_CO2_light)\n",
    "\n",
    "plt.legend(loc = 'lower right')\n",
    "plt.plot([0, 1], [0, 1],'r--')\n",
    "plt.xlim([0, 1])\n",
    "plt.ylim([0, 1])\n",
    "plt.ylabel('True Positive Rate (Sensitivity)')\n",
    "plt.xlabel('False Positive Rate (1- Specificity)')\n",
    "plt.show()"
   ]
  },
  {
   "cell_type": "code",
   "execution_count": null,
   "metadata": {},
   "outputs": [],
   "source": []
  }
 ],
 "metadata": {
  "interpreter": {
   "hash": "1aba52c1ae85c0cd0042ce8c1f3561449c6f8ab22940c9aa7d68f686e65d1012"
  },
  "kernelspec": {
   "display_name": "Python 3.8.9 64-bit",
   "name": "python3"
  },
  "language_info": {
   "codemirror_mode": {
    "name": "ipython",
    "version": 3
   },
   "file_extension": ".py",
   "mimetype": "text/x-python",
   "name": "python",
   "nbconvert_exporter": "python",
   "pygments_lexer": "ipython3",
   "version": "3.8.9"
  },
  "orig_nbformat": 4
 },
 "nbformat": 4,
 "nbformat_minor": 2
}
